{
 "cells": [
  {
   "cell_type": "markdown",
   "metadata": {},
   "source": [
    "# Inverse MPC cleaned\n",
    "\n",
    "This notebook accompanies the paper [Learning Convex Optimization Models](https://web.stanford.edu/~boyd/papers/learning_copt_models.html)."
   ]
  },
  {
   "cell_type": "code",
   "execution_count": 1,
   "metadata": {},
   "outputs": [],
   "source": [
    "import cvxpy as cp\n",
    "import matplotlib.pyplot as plt\n",
    "import numpy as np\n",
    "import torch\n",
    "from tqdm import tqdm\n",
    "\n",
    "\n",
    "\n",
    "# lessons learned:\n",
    "# 1. the problem should feasible, convex, for any given parameters\n",
    "# 2. Make sure the there is no product of two parameters that to be inferred\n",
    "\n",
    "\n",
    "\n",
    "# ----------------- 1. Define the MPC problem -----------------\n",
    "\n",
    "\n",
    "\n",
    "from cvxpylayers.torch import CvxpyLayer\n",
    "torch.set_default_dtype(torch.double)\n",
    "torch.set_default_device('cuda:3')\n",
    "\n",
    "# define the nominal dynamics\n",
    "n = 4 # state dimension\n",
    "m = 1 # control dimension\n",
    "dt = 0.1 # time integrator\n",
    "A_np = np.array([[1., dt],[0, 1.]]) # dynamics of the ego car\n",
    "A = np.kron(np.eye(2), A_np) # dynamics of the two cars\n",
    "B1 = np.array([0,dt,0,0]).reshape(-1,1) # control of the ego car\n",
    "B2 = np.array([0,0,0,dt]).reshape(-1,1) # control of the other car\n",
    "\n",
    "A_torch = torch.tensor(A)\n",
    "B1_torch = torch.tensor(B1)\n",
    "B2_torch = torch.tensor(B2)\n",
    "\n",
    "\n",
    "# define the ground truth parameters of the cost function\n",
    "# parameters:   \n",
    "#               weight_on_velocity_cost, \n",
    "#               weight_on_acceleration_cost, \n",
    "#               desired_distance, \n",
    "#               desired_velocity,\n",
    "ground_truth_parameters = torch.tensor([1.0, 1.0, 0.5, 1.0])\n",
    "ground_truth_parameters_np = ground_truth_parameters.cpu().numpy()\n",
    "control_limit = 1.0 # this is the constraint on the control\n",
    "T = 5 # look-ahead horizon\n",
    "\n",
    "\n",
    "# define the dynamics and cost function\n",
    "def dynamics_torch(xt, ut, acceleration_of_other_car = torch.tensor([0.])):\n",
    "    return A_torch @ xt + B1_torch @ ut + B2_torch @ acceleration_of_other_car\n",
    "\n",
    "def dynamics_np(xt, ut, acceleration_of_other_car = np.array([0.])):\n",
    "    return A @ xt + B1 @ ut + B2 @ acceleration_of_other_car\n",
    "\n",
    "def cost(xt, ut):\n",
    "    return (ground_truth_parameters*(xt.pow(2))).sum() + ut.pow(2).sum()\n",
    "\n",
    "\n",
    "# define MPC problem as below:\n",
    "def construct_mpc_problem():\n",
    "    # belows are the parameters of the MPC problem\n",
    "    x = cp.Parameter(n)\n",
    "    acceleration_of_other_car = cp.Parameter(1)\n",
    "    # belows are the decision variables of the MPC problem\n",
    "    states = [cp.Variable(n) for _ in range(T)]\n",
    "    controls = [cp.Variable(m) for _ in range(T)]\n",
    "    # initial constraints\n",
    "    constraints = [states[0] == x, \n",
    "        cp.norm(controls[0], 'inf') <= control_limit,\n",
    "        states[0][0] <= states[0][2] - ground_truth_parameters_np[2]] \n",
    "    # initial objective\n",
    "    # \n",
    "    objective = cp.square(ground_truth_parameters_np[2]-(states[0][2]-states[0][0])) +\\\n",
    "        cp.multiply(ground_truth_parameters_np[0], cp.square(states[0][1] - ground_truth_parameters_np[3]))+\\\n",
    "        cp.multiply(ground_truth_parameters_np[1], cp.square(controls[0])) \n",
    "    for t in range(1, T):\n",
    "        # objective\n",
    "        #\n",
    "        objective += cp.square(ground_truth_parameters_np[2]-(states[t][2]-states[t][0])) +\\\n",
    "            cp.multiply(ground_truth_parameters_np[0], cp.square(states[t][1] - ground_truth_parameters_np[3]))+\\\n",
    "            cp.multiply(ground_truth_parameters_np[1], cp.square(controls[t])) \n",
    "        # dynamics constraints\n",
    "        constraints += [states[t] == A @ states[t-1] +\\\n",
    "            B1 @ controls[t-1] +\\\n",
    "            B2 @ acceleration_of_other_car] \n",
    "        # control constraints\n",
    "        constraints += [cp.norm(controls[t], 'inf') <= control_limit]\n",
    "        constraints += [states[t][0] <= states[t][2]- ground_truth_parameters_np[2]] \n",
    "    problem = cp.Problem(cp.Minimize(objective), constraints)\n",
    "    return CvxpyLayer(problem, variables=[controls[0]], parameters=[x, acceleration_of_other_car])\n",
    "\n",
    "\n",
    "# simulate the closed-loop system\n",
    "def simulate(policy, x0, acceleration_of_other_car, n_iters=1):\n",
    "    states, controls, costs = [x0], [], []\n",
    "    for t in tqdm(range(n_iters)):\n",
    "        xt = states[-1] # current state\n",
    "        # import pdb; pdb.set_trace()\n",
    "        ut = policy(xt, acceleration_of_other_car)[0] # current control\n",
    "        # record control, cost, and next state:\n",
    "        controls.append(ut)\n",
    "        states.append(dynamics_torch(xt, ut, acceleration_of_other_car))\n",
    "    return states[:-1], controls\n",
    "\n",
    "\n",
    "# define the mean square error\n",
    "def mse(prediction, actual):\n",
    "    prediction = torch.stack(prediction, dim=0)\n",
    "    actual = torch.stack(actual, dim=0)\n",
    "    return (prediction - actual).pow(2).mean(axis=1).mean(axis=0).item()\n",
    "\n",
    "\n",
    "\n",
    "\n"
   ]
  },
  {
   "cell_type": "code",
   "execution_count": 2,
   "metadata": {},
   "outputs": [
    {
     "name": "stderr",
     "output_type": "stream",
     "text": [
      "100%|██████████| 100/100 [00:00<00:00, 177.41it/s]\n",
      "100%|██████████| 100/100 [00:00<00:00, 298.44it/s]\n",
      "100%|██████████| 100/100 [00:00<00:00, 307.69it/s]"
     ]
    },
    {
     "name": "stdout",
     "output_type": "stream",
     "text": [
      "0.002072316779401688\n"
     ]
    },
    {
     "name": "stderr",
     "output_type": "stream",
     "text": [
      "\n"
     ]
    }
   ],
   "source": [
    "\n",
    "\n",
    "# ----------------- 2. Differentiable MPC -----------------\n",
    "\n",
    "\n",
    "\n",
    "# define the differentiable MPC problem as below\n",
    "# The problem bellow is the same as the MPC problem except that the parameters are inferred\n",
    "def construct_differentiable_mpc_problem():\n",
    "    # belows are the parameters of the MPC problem\n",
    "    x = cp.Parameter(n)\n",
    "    inferred_parameters = cp.Parameter(4, nonneg=True) # this is the parameters of the problem\n",
    "    acceleration_of_other_car = cp.Parameter(1)\n",
    "    # belows are the decision variables of the MPC problem\n",
    "    states = [cp.Variable(n) for _ in range(T)]\n",
    "    controls = [cp.Variable(m) for _ in range(T)]\n",
    "    # initial constraints\n",
    "    constraints = [states[0] == x, \n",
    "        cp.norm(controls[0], 'inf') <= control_limit,\n",
    "        states[0][0] <= states[0][2] - inferred_parameters[2]] \n",
    "    # initial objective\n",
    "    # \n",
    "    objective = cp.square(inferred_parameters[2]-(states[0][2]-states[0][0])) +\\\n",
    "        cp.multiply(inferred_parameters[0], cp.square(states[0][1] - ground_truth_parameters_np[3]))+\\\n",
    "        cp.multiply(inferred_parameters[1], cp.square(controls[0])) \n",
    "    for t in range(1, T):\n",
    "        # objective\n",
    "        # safe distance, safe speed, and control cost\n",
    "        objective += cp.square(inferred_parameters[2]-(states[t][2]-states[t][0])) +\\\n",
    "            cp.multiply(inferred_parameters[0], cp.square(states[t][1] - ground_truth_parameters_np[3]))+\\\n",
    "            cp.multiply(inferred_parameters[1], cp.square(controls[t])) \n",
    "        # dynamics constraints\n",
    "        constraints += [states[t] == A @ states[t-1] +\\\n",
    "            B1 @ controls[t-1] +\\\n",
    "            B2 @ acceleration_of_other_car] \n",
    "        # control constraints\n",
    "        constraints += [cp.norm(controls[t], 'inf') <= control_limit]\n",
    "        constraints += [states[t][0] <= states[t][2]- inferred_parameters[2]] \n",
    "    problem = cp.Problem(cp.Minimize(objective), constraints)\n",
    "    return CvxpyLayer(problem, variables=[controls[0]], parameters=[x, acceleration_of_other_car, inferred_parameters])\n",
    "\n",
    "\n",
    "\n",
    "\n",
    "# ----------------- 3. test MPC and differentiable MPC -----------------\n",
    "\n",
    "\n",
    "\n",
    "# initial state of two cars\n",
    "x0 = torch.tensor([1.0, 0.2, 5.0, 1.0])\n",
    "acceleration_of_other_car = torch.tensor([0.])\n",
    "\n",
    "\n",
    "# define an MPC problem:\n",
    "# In this MPC problem, we want to solve for the control given the initial state x0 and \n",
    "# the acceleration of the other car\n",
    "mpc_problem = construct_mpc_problem()\n",
    "\n",
    "\n",
    "# for example, we can solve the MPC problem for the initial state x0 and the acceleration of the other car\n",
    "# Notice that the output of the function construct_mpc_problem is the first control, i.e., controls[0]\n",
    "mpc_problem(x0, acceleration_of_other_car)\n",
    "\n",
    "\n",
    "\n",
    "\n",
    "# generate expert state and control trajectories!\n",
    "expert_states, expert_controls= simulate(mpc_problem, \n",
    "                                        x0, \n",
    "                                        acceleration_of_other_car, \n",
    "                                        n_iters = 100)\n",
    "\n",
    "\n",
    "\n",
    "\n",
    "\n",
    "# define an MPC problem containing some hidden parameters that we want to infer\n",
    "inferred_mpc_problem = construct_differentiable_mpc_problem()\n",
    "\n",
    "\n",
    "# define the inferred policy: a function from a state to a control, under the inferred parameters\n",
    "inferred_policy = lambda x, acceleration_of_other_car: inferred_mpc_problem(x, \n",
    "                                                acceleration_of_other_car, \n",
    "                                                inferred_parameters_torch)\n",
    "\n",
    "\n",
    "# define the expert policy: a function from a state to a control, under the ground truth parameters\n",
    "expert_policy = lambda x, acceleration_of_other_car: mpc_problem(x, \n",
    "                                    acceleration_of_other_car)\n",
    "\n",
    "\n",
    "\n",
    "\n",
    "\n",
    "# ----------------- 4. training -----------------\n",
    "\n",
    "\n",
    "# define the inferred parameters:\n",
    "inferred_parameters_torch = torch.tensor([2.0, 2.0, 0.5, 1.0], requires_grad=True)\n",
    "\n",
    "# the training loop:\n",
    "training_epochs = 40 \n",
    "test_losses = [] \n",
    "training_losses = [] \n",
    "test_x0 = x0\n",
    "# initialize the training \n",
    "with torch.no_grad():\n",
    "    _, initial_control_prediction = simulate(inferred_policy, test_x0, acceleration_of_other_car, n_iters = 100)\n",
    "    _, test_expert_control = simulate(expert_policy, test_x0, acceleration_of_other_car, n_iters = 100)\n",
    "    test_losses.append(mse(initial_control_prediction, test_expert_control))\n",
    "    print(test_losses[-1])\n",
    "\n",
    "\n",
    "# use Adam optimizer\n",
    "opt = torch.optim.Adam([inferred_parameters_torch], lr=1e-4) \n",
    "\n"
   ]
  },
  {
   "cell_type": "code",
   "execution_count": 3,
   "metadata": {},
   "outputs": [
    {
     "name": "stdout",
     "output_type": "stream",
     "text": [
      "Epoch:  0\n"
     ]
    },
    {
     "name": "stderr",
     "output_type": "stream",
     "text": [
      "100it [00:00, 149.04it/s]\n",
      "100%|██████████| 100/100 [00:00<00:00, 306.25it/s]\n"
     ]
    },
    {
     "name": "stdout",
     "output_type": "stream",
     "text": [
      "0.002064201048772742\n",
      "Epoch:  1\n"
     ]
    },
    {
     "name": "stderr",
     "output_type": "stream",
     "text": [
      "100it [00:00, 119.93it/s]\n",
      "100%|██████████| 100/100 [00:00<00:00, 308.23it/s]\n"
     ]
    },
    {
     "name": "stdout",
     "output_type": "stream",
     "text": [
      "0.002055396437052439\n",
      "Epoch:  2\n"
     ]
    },
    {
     "name": "stderr",
     "output_type": "stream",
     "text": [
      "100it [00:00, 119.21it/s]\n",
      "100%|██████████| 100/100 [00:00<00:00, 312.93it/s]\n"
     ]
    },
    {
     "name": "stdout",
     "output_type": "stream",
     "text": [
      "0.002044966858760535\n",
      "Epoch:  3\n"
     ]
    },
    {
     "name": "stderr",
     "output_type": "stream",
     "text": [
      "100it [00:00, 119.41it/s]\n",
      "100%|██████████| 100/100 [00:00<00:00, 313.80it/s]\n"
     ]
    },
    {
     "name": "stdout",
     "output_type": "stream",
     "text": [
      "0.0020337373500877564\n",
      "Epoch:  4\n"
     ]
    },
    {
     "name": "stderr",
     "output_type": "stream",
     "text": [
      "100it [00:00, 120.79it/s]\n",
      "100%|██████████| 100/100 [00:00<00:00, 277.41it/s]\n"
     ]
    },
    {
     "name": "stdout",
     "output_type": "stream",
     "text": [
      "0.002022149567715847\n",
      "Epoch:  5\n"
     ]
    },
    {
     "name": "stderr",
     "output_type": "stream",
     "text": [
      "100it [00:00, 121.69it/s]\n",
      "100%|██████████| 100/100 [00:00<00:00, 313.13it/s]\n"
     ]
    },
    {
     "name": "stdout",
     "output_type": "stream",
     "text": [
      "0.0020102498707745098\n",
      "Epoch:  6\n"
     ]
    },
    {
     "name": "stderr",
     "output_type": "stream",
     "text": [
      "100it [00:00, 119.45it/s]\n",
      "100%|██████████| 100/100 [00:00<00:00, 312.98it/s]\n"
     ]
    },
    {
     "name": "stdout",
     "output_type": "stream",
     "text": [
      "0.0019980985461573973\n",
      "Epoch:  7\n"
     ]
    },
    {
     "name": "stderr",
     "output_type": "stream",
     "text": [
      "100it [00:00, 112.11it/s]\n",
      "100%|██████████| 100/100 [00:00<00:00, 313.25it/s]\n"
     ]
    },
    {
     "name": "stdout",
     "output_type": "stream",
     "text": [
      "0.0019857170824916347\n",
      "Epoch:  8\n"
     ]
    },
    {
     "name": "stderr",
     "output_type": "stream",
     "text": [
      "100it [00:00, 120.57it/s]\n",
      "100%|██████████| 100/100 [00:00<00:00, 294.55it/s]\n"
     ]
    },
    {
     "name": "stdout",
     "output_type": "stream",
     "text": [
      "0.0019731237569481914\n",
      "Epoch:  9\n"
     ]
    },
    {
     "name": "stderr",
     "output_type": "stream",
     "text": [
      "100it [00:00, 111.73it/s]\n",
      "100%|██████████| 100/100 [00:00<00:00, 311.73it/s]\n"
     ]
    },
    {
     "name": "stdout",
     "output_type": "stream",
     "text": [
      "0.0019601941122594974\n",
      "Epoch:  10\n"
     ]
    },
    {
     "name": "stderr",
     "output_type": "stream",
     "text": [
      "100it [00:00, 120.21it/s]\n",
      "100%|██████████| 100/100 [00:00<00:00, 314.27it/s]\n"
     ]
    },
    {
     "name": "stdout",
     "output_type": "stream",
     "text": [
      "0.0019472208611079653\n",
      "Epoch:  11\n"
     ]
    },
    {
     "name": "stderr",
     "output_type": "stream",
     "text": [
      "100it [00:00, 112.74it/s]\n",
      "100%|██████████| 100/100 [00:00<00:00, 314.60it/s]\n"
     ]
    },
    {
     "name": "stdout",
     "output_type": "stream",
     "text": [
      "0.0019340308143119917\n",
      "Epoch:  12\n"
     ]
    },
    {
     "name": "stderr",
     "output_type": "stream",
     "text": [
      "100it [00:00, 113.03it/s]\n",
      "100%|██████████| 100/100 [00:00<00:00, 314.82it/s]\n"
     ]
    },
    {
     "name": "stdout",
     "output_type": "stream",
     "text": [
      "0.001920712631002776\n",
      "Epoch:  13\n"
     ]
    },
    {
     "name": "stderr",
     "output_type": "stream",
     "text": [
      "100it [00:00, 119.76it/s]\n",
      "100%|██████████| 100/100 [00:00<00:00, 312.16it/s]\n"
     ]
    },
    {
     "name": "stdout",
     "output_type": "stream",
     "text": [
      "0.0019072341754703382\n",
      "Epoch:  14\n"
     ]
    },
    {
     "name": "stderr",
     "output_type": "stream",
     "text": [
      "100it [00:00, 119.46it/s]\n",
      "100%|██████████| 100/100 [00:00<00:00, 313.30it/s]\n"
     ]
    },
    {
     "name": "stdout",
     "output_type": "stream",
     "text": [
      "0.0018936129781967365\n",
      "Epoch:  15\n"
     ]
    },
    {
     "name": "stderr",
     "output_type": "stream",
     "text": [
      "100it [00:00, 111.88it/s]\n",
      "100%|██████████| 100/100 [00:00<00:00, 308.54it/s]\n"
     ]
    },
    {
     "name": "stdout",
     "output_type": "stream",
     "text": [
      "0.0018797496967729338\n",
      "Epoch:  16\n"
     ]
    },
    {
     "name": "stderr",
     "output_type": "stream",
     "text": [
      "100it [00:00, 119.52it/s]\n",
      "100%|██████████| 100/100 [00:00<00:00, 314.41it/s]\n"
     ]
    },
    {
     "name": "stdout",
     "output_type": "stream",
     "text": [
      "0.001865854603829274\n",
      "Epoch:  17\n"
     ]
    },
    {
     "name": "stderr",
     "output_type": "stream",
     "text": [
      "100it [00:00, 121.45it/s]\n",
      "100%|██████████| 100/100 [00:00<00:00, 293.27it/s]\n"
     ]
    },
    {
     "name": "stdout",
     "output_type": "stream",
     "text": [
      "0.0018518524834904332\n",
      "Epoch:  18\n"
     ]
    },
    {
     "name": "stderr",
     "output_type": "stream",
     "text": [
      "100it [00:00, 117.60it/s]\n",
      "100%|██████████| 100/100 [00:00<00:00, 314.01it/s]\n"
     ]
    },
    {
     "name": "stdout",
     "output_type": "stream",
     "text": [
      "0.0018375700533723944\n",
      "Epoch:  19\n"
     ]
    },
    {
     "name": "stderr",
     "output_type": "stream",
     "text": [
      "100it [00:00, 117.50it/s]\n",
      "100%|██████████| 100/100 [00:00<00:00, 303.02it/s]\n"
     ]
    },
    {
     "name": "stdout",
     "output_type": "stream",
     "text": [
      "0.0018233217250221174\n",
      "Epoch:  20\n"
     ]
    },
    {
     "name": "stderr",
     "output_type": "stream",
     "text": [
      "100it [00:00, 112.61it/s]\n",
      "100%|██████████| 100/100 [00:00<00:00, 313.16it/s]\n"
     ]
    },
    {
     "name": "stdout",
     "output_type": "stream",
     "text": [
      "0.0018087752362903064\n",
      "Epoch:  21\n"
     ]
    },
    {
     "name": "stderr",
     "output_type": "stream",
     "text": [
      "100it [00:00, 112.45it/s]\n",
      "100%|██████████| 100/100 [00:00<00:00, 311.85it/s]\n"
     ]
    },
    {
     "name": "stdout",
     "output_type": "stream",
     "text": [
      "0.0017944393918084933\n",
      "Epoch:  22\n"
     ]
    },
    {
     "name": "stderr",
     "output_type": "stream",
     "text": [
      "100it [00:00, 119.95it/s]\n",
      "100%|██████████| 100/100 [00:00<00:00, 301.83it/s]\n"
     ]
    },
    {
     "name": "stdout",
     "output_type": "stream",
     "text": [
      "0.001779760145459678\n",
      "Epoch:  23\n"
     ]
    },
    {
     "name": "stderr",
     "output_type": "stream",
     "text": [
      "100it [00:00, 119.02it/s]\n",
      "100%|██████████| 100/100 [00:00<00:00, 309.12it/s]\n"
     ]
    },
    {
     "name": "stdout",
     "output_type": "stream",
     "text": [
      "0.0017649976189286066\n",
      "Epoch:  24\n"
     ]
    },
    {
     "name": "stderr",
     "output_type": "stream",
     "text": [
      "100it [00:00, 117.41it/s]\n",
      "100%|██████████| 100/100 [00:00<00:00, 311.03it/s]\n"
     ]
    },
    {
     "name": "stdout",
     "output_type": "stream",
     "text": [
      "0.0017501273777287014\n",
      "Epoch:  25\n"
     ]
    },
    {
     "name": "stderr",
     "output_type": "stream",
     "text": [
      "100it [00:00, 112.59it/s]\n",
      "100%|██████████| 100/100 [00:00<00:00, 308.43it/s]\n"
     ]
    },
    {
     "name": "stdout",
     "output_type": "stream",
     "text": [
      "0.0017351455012256643\n",
      "Epoch:  26\n"
     ]
    },
    {
     "name": "stderr",
     "output_type": "stream",
     "text": [
      "100it [00:00, 120.43it/s]\n",
      "100%|██████████| 100/100 [00:00<00:00, 314.40it/s]\n"
     ]
    },
    {
     "name": "stdout",
     "output_type": "stream",
     "text": [
      "0.0017201008411787603\n",
      "Epoch:  27\n"
     ]
    },
    {
     "name": "stderr",
     "output_type": "stream",
     "text": [
      "100it [00:00, 114.54it/s]\n",
      "100%|██████████| 100/100 [00:00<00:00, 292.44it/s]\n"
     ]
    },
    {
     "name": "stdout",
     "output_type": "stream",
     "text": [
      "0.0017049017534164913\n",
      "Epoch:  28\n"
     ]
    },
    {
     "name": "stderr",
     "output_type": "stream",
     "text": [
      "100it [00:00, 112.29it/s]\n",
      "100%|██████████| 100/100 [00:00<00:00, 314.87it/s]\n"
     ]
    },
    {
     "name": "stdout",
     "output_type": "stream",
     "text": [
      "0.0016895661125268674\n",
      "Epoch:  29\n"
     ]
    },
    {
     "name": "stderr",
     "output_type": "stream",
     "text": [
      "100it [00:00, 119.58it/s]\n",
      "100%|██████████| 100/100 [00:00<00:00, 311.28it/s]\n"
     ]
    },
    {
     "name": "stdout",
     "output_type": "stream",
     "text": [
      "0.0016740977951998732\n",
      "Epoch:  30\n"
     ]
    },
    {
     "name": "stderr",
     "output_type": "stream",
     "text": [
      "100it [00:00, 117.62it/s]\n",
      "100%|██████████| 100/100 [00:00<00:00, 313.64it/s]\n"
     ]
    },
    {
     "name": "stdout",
     "output_type": "stream",
     "text": [
      "0.0016588268713712785\n",
      "Epoch:  31\n"
     ]
    },
    {
     "name": "stderr",
     "output_type": "stream",
     "text": [
      "100it [00:00, 112.57it/s]\n",
      "100%|██████████| 100/100 [00:00<00:00, 312.91it/s]\n"
     ]
    },
    {
     "name": "stdout",
     "output_type": "stream",
     "text": [
      "0.0016431963437326359\n",
      "Epoch:  32\n"
     ]
    },
    {
     "name": "stderr",
     "output_type": "stream",
     "text": [
      "100it [00:00, 112.70it/s]\n",
      "100%|██████████| 100/100 [00:00<00:00, 296.43it/s]\n"
     ]
    },
    {
     "name": "stdout",
     "output_type": "stream",
     "text": [
      "0.0016275094831727074\n",
      "Epoch:  33\n"
     ]
    },
    {
     "name": "stderr",
     "output_type": "stream",
     "text": [
      "100it [00:00, 118.38it/s]\n",
      "100%|██████████| 100/100 [00:00<00:00, 313.27it/s]\n"
     ]
    },
    {
     "name": "stdout",
     "output_type": "stream",
     "text": [
      "0.0016117297133811945\n",
      "Epoch:  34\n"
     ]
    },
    {
     "name": "stderr",
     "output_type": "stream",
     "text": [
      "100it [00:00, 119.50it/s]\n",
      "100%|██████████| 100/100 [00:00<00:00, 313.63it/s]\n"
     ]
    },
    {
     "name": "stdout",
     "output_type": "stream",
     "text": [
      "0.0015958729387633974\n",
      "Epoch:  35\n"
     ]
    },
    {
     "name": "stderr",
     "output_type": "stream",
     "text": [
      "100it [00:00, 119.97it/s]\n",
      "100%|██████████| 100/100 [00:00<00:00, 303.30it/s]\n"
     ]
    },
    {
     "name": "stdout",
     "output_type": "stream",
     "text": [
      "0.0015799374255858762\n",
      "Epoch:  36\n"
     ]
    },
    {
     "name": "stderr",
     "output_type": "stream",
     "text": [
      "100it [00:00, 112.86it/s]\n",
      "100%|██████████| 100/100 [00:00<00:00, 306.24it/s]\n"
     ]
    },
    {
     "name": "stdout",
     "output_type": "stream",
     "text": [
      "0.0015639830860032645\n",
      "Epoch:  37\n"
     ]
    },
    {
     "name": "stderr",
     "output_type": "stream",
     "text": [
      "100it [00:00, 112.07it/s]\n",
      "100%|██████████| 100/100 [00:00<00:00, 283.35it/s]\n"
     ]
    },
    {
     "name": "stdout",
     "output_type": "stream",
     "text": [
      "0.0015481045983588035\n",
      "Epoch:  38\n"
     ]
    },
    {
     "name": "stderr",
     "output_type": "stream",
     "text": [
      "100it [00:00, 118.79it/s]\n",
      "100%|██████████| 100/100 [00:00<00:00, 305.43it/s]\n"
     ]
    },
    {
     "name": "stdout",
     "output_type": "stream",
     "text": [
      "0.0015317719346532395\n",
      "Epoch:  39\n"
     ]
    },
    {
     "name": "stderr",
     "output_type": "stream",
     "text": [
      "100it [00:00, 119.39it/s]\n",
      "100%|██████████| 100/100 [00:00<00:00, 254.19it/s]"
     ]
    },
    {
     "name": "stdout",
     "output_type": "stream",
     "text": [
      "0.0015155051710097713\n",
      "Training finished!\n",
      "The inferred parameters are:  tensor([1.8491, 1.8631, 0.1279, 1.0000], device='cuda:3')\n",
      "The ground truth parameters are:  tensor([1.0000, 1.0000, 0.5000, 1.0000], device='cuda:3')\n"
     ]
    },
    {
     "name": "stderr",
     "output_type": "stream",
     "text": [
      "\n"
     ]
    }
   ],
   "source": [
    "# training begins!\n",
    "for epoch in range(training_epochs):\n",
    "    print('Epoch: ', epoch)\n",
    "    for xt, ut in tqdm(zip(expert_states, expert_controls)):\n",
    "        opt.zero_grad()\n",
    "        ut_hat = inferred_mpc_problem(xt, \n",
    "                                    acceleration_of_other_car, \n",
    "                                    inferred_parameters_torch)[0] # the output of the function is (controls[0])\n",
    "        loss = (ut - ut_hat).pow(2).mean()\n",
    "        loss.backward()\n",
    "        training_losses.append(loss.item())\n",
    "        opt.step()\n",
    "    with torch.no_grad():\n",
    "        inferred_parameters_torch.data = inferred_parameters_torch.relu()\n",
    "        _, inferred_control_prediction = simulate(inferred_policy, \n",
    "                                                    test_x0, \n",
    "                                                    acceleration_of_other_car, \n",
    "                                                    n_iters = 100)\n",
    "        test_losses.append(mse(inferred_control_prediction, test_expert_control))\n",
    "    print(test_losses[-1])\n",
    "\n",
    "\n",
    "print('Training finished!')\n",
    "\n",
    "print('The inferred parameters are: ', inferred_parameters_torch.data)\n",
    "print('The ground truth parameters are: ', ground_truth_parameters.data)\n",
    "\n",
    "\n"
   ]
  },
  {
   "cell_type": "code",
   "execution_count": 4,
   "metadata": {},
   "outputs": [
    {
     "name": "stderr",
     "output_type": "stream",
     "text": [
      "100%|██████████| 100/100 [00:00<00:00, 276.48it/s]\n",
      "100%|██████████| 100/100 [00:00<00:00, 275.66it/s]"
     ]
    },
    {
     "name": "stdout",
     "output_type": "stream",
     "text": [
      "0.002072316779401688\n"
     ]
    },
    {
     "name": "stderr",
     "output_type": "stream",
     "text": [
      "\n"
     ]
    },
    {
     "data": {
      "text/plain": [
       "<matplotlib.legend.Legend at 0x7f2c500f8850>"
      ]
     },
     "execution_count": 4,
     "metadata": {},
     "output_type": "execute_result"
    },
    {
     "data": {
      "image/png": "[encoded data removed]",
      "text/plain": [
       "<Figure size 640x480 with 1 Axes>"
      ]
     },
     "metadata": {},
     "output_type": "display_data"
    }
   ],
   "source": [
    "\n",
    "predicted_trajectory, predicted_control = [], []\n",
    "expert_trajectory, expert_control = [], []\n",
    "with torch.no_grad():\n",
    "    predicted_trajectory, predicted_control = simulate(inferred_policy, test_x0, acceleration_of_other_car, n_iters = 100)\n",
    "    expert_trajectory, expert_control = simulate(expert_policy, test_x0, acceleration_of_other_car, n_iters = 100)\n",
    "    test_losses.append(mse(initial_control_prediction, test_expert_control))\n",
    "    print(test_losses[-1])\n",
    "\n",
    "\n",
    "\n",
    "import matplotlib\n",
    "time_list = [x for x in range(100)]\n",
    "import matplotlib.pyplot as plt\n",
    "plt.plot(time_list, [x[0].cpu() for x in predicted_trajectory], label='inferred trajectory')\n",
    "plt.plot(time_list, [x[0].cpu() for x in expert_trajectory], label='expert trajectory')\n",
    "plt.xlabel(\"time\")\n",
    "plt.ylabel(\"position\")\n",
    "plt.legend()"
   ]
  },
  {
   "cell_type": "code",
   "execution_count": 13,
   "metadata": {},
   "outputs": [
    {
     "name": "stderr",
     "output_type": "stream",
     "text": [
      "100%|██████████| 100/100 [00:00<00:00, 268.59it/s]\n",
      "100%|██████████| 100/100 [00:00<00:00, 306.37it/s]"
     ]
    },
    {
     "name": "stdout",
     "output_type": "stream",
     "text": [
      "0.002072316779401688\n"
     ]
    },
    {
     "name": "stderr",
     "output_type": "stream",
     "text": [
      "\n"
     ]
    },
    {
     "data": {
      "text/plain": [
       "<matplotlib.legend.Legend at 0x7f2a41bfbfa0>"
      ]
     },
     "execution_count": 13,
     "metadata": {},
     "output_type": "execute_result"
    },
    {
     "data": {
      "image/png": "[encoded data removed]",
      "text/plain": [
       "<Figure size 640x480 with 1 Axes>"
      ]
     },
     "metadata": {},
     "output_type": "display_data"
    }
   ],
   "source": [
    "\n",
    "predicted_trajectory, predicted_control = [], []\n",
    "expert_trajectory, expert_control = [], []\n",
    "with torch.no_grad():\n",
    "    predicted_trajectory, predicted_control = simulate(inferred_policy, test_x0, acceleration_of_other_car, n_iters = 100)\n",
    "    expert_trajectory, expert_control = simulate(expert_policy, test_x0, acceleration_of_other_car, n_iters = 100)\n",
    "    test_losses.append(mse(initial_control_prediction, test_expert_control))\n",
    "    print(test_losses[-1])\n",
    "\n",
    "\n",
    "\n",
    "import matplotlib\n",
    "time_list = [x for x in range(100)]\n",
    "import matplotlib.pyplot as plt\n",
    "plt.plot(time_list, [x[0].cpu() for x in predicted_trajectory], label='inferred trajectory')\n",
    "plt.plot(time_list, [x[0].cpu() for x in expert_trajectory], label='expert trajectory')\n",
    "plt.xlabel(\"time\")\n",
    "plt.ylabel(\"position\")\n",
    "plt.legend()"
   ]
  },
  {
   "cell_type": "code",
   "execution_count": 5,
   "metadata": {},
   "outputs": [
    {
     "data": {
      "text/plain": [
       "<matplotlib.legend.Legend at 0x7f2a41a729d0>"
      ]
     },
     "execution_count": 5,
     "metadata": {},
     "output_type": "execute_result"
    },
    {
     "data": {
      "image/png": "[encoded data removed]",
      "text/plain": [
       "<Figure size 640x480 with 1 Axes>"
      ]
     },
     "metadata": {},
     "output_type": "display_data"
    }
   ],
   "source": [
    "plt.plot(time_list, [x[1].cpu() for x in predicted_trajectory], label='inferred acceleration')\n",
    "plt.plot(time_list, [x[1].cpu() for x in expert_trajectory], label='expert acceleration')\n",
    "plt.xlabel(\"time\")\n",
    "plt.ylabel(\"velocity\")\n",
    "plt.legend()"
   ]
  },
  {
   "cell_type": "code",
   "execution_count": 14,
   "metadata": {},
   "outputs": [
    {
     "data": {
      "text/plain": [
       "<matplotlib.legend.Legend at 0x7f2a413ed6d0>"
      ]
     },
     "execution_count": 14,
     "metadata": {},
     "output_type": "execute_result"
    },
    {
     "data": {
      "image/png": "[encoded data removed]",
      "text/plain": [
       "<Figure size 640x480 with 1 Axes>"
      ]
     },
     "metadata": {},
     "output_type": "display_data"
    }
   ],
   "source": [
    "plt.plot(time_list, [x[1].cpu() for x in predicted_trajectory], label='inferred acceleration')\n",
    "plt.plot(time_list, [x[1].cpu() for x in expert_trajectory], label='expert acceleration')\n",
    "plt.xlabel(\"time\")\n",
    "plt.ylabel(\"velocity\")\n",
    "plt.legend()"
   ]
  },
  {
   "cell_type": "code",
   "execution_count": null,
   "metadata": {},
   "outputs": [],
   "source": []
  }
 ],
 "metadata": {
  "kernelspec": {
   "display_name": "Python 3",
   "language": "python",
   "name": "python3"
  },
  "language_info": {
   "codemirror_mode": {
    "name": "ipython",
    "version": 3
   },
   "file_extension": ".py",
   "mimetype": "text/x-python",
   "name": "python",
   "nbconvert_exporter": "python",
   "pygments_lexer": "ipython3",
   "version": "3.9.17"
  }
 },
 "nbformat": 4,
 "nbformat_minor": 2
}
