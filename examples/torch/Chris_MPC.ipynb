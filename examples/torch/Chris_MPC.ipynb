{
 "cells": [
  {
   "cell_type": "code",
   "execution_count": 1,
   "metadata": {},
   "outputs": [
    {
     "data": {
      "text/plain": [
       "(tensor([-1.1826]),)"
      ]
     },
     "execution_count": 1,
     "metadata": {},
     "output_type": "execute_result"
    }
   ],
   "source": [
    "import cvxpy as cp\n",
    "import matplotlib.pyplot as plt\n",
    "import numpy as np\n",
    "import torch\n",
    "from tqdm import tqdm\n",
    "\n",
    "\n",
    "\n",
    "# lessons learned:\n",
    "# 1. the problem should feasible, convex, for any given parameters\n",
    "# 2. Make sure the there is no product of two parameters that to be inferred\n",
    "\n",
    "\n",
    "\n",
    "# ----------------- 1. Define the MPC problem -----------------\n",
    "\n",
    "\n",
    "\n",
    "from cvxpylayers.torch import CvxpyLayer\n",
    "torch.set_default_dtype(torch.double)\n",
    "torch.set_default_device('cpu')\n",
    "\n",
    "# define the nominal dynamics\n",
    "n = 4 # state dimension\n",
    "m = 1 # control dimension\n",
    "dt = 0.1 # time integrator\n",
    "A_np = np.array([[1., dt],[0, 1.]]) # dynamics of the ego car\n",
    "A = np.kron(np.eye(2), A_np) # dynamics of the two cars\n",
    "B1 = np.array([0,dt,0,0]).reshape(-1,1) # control of the ego car\n",
    "B2 = np.array([0,0,0,dt]).reshape(-1,1) # control of the other car\n",
    "\n",
    "A_torch = torch.tensor(A)\n",
    "B1_torch = torch.tensor(B1)\n",
    "B2_torch = torch.tensor(B2)\n",
    "\n",
    "\n",
    "# define the ground truth parameters of the cost function\n",
    "# parameters:   \n",
    "#               weight_on_velocity_cost, \n",
    "#               weight_on_acceleration_cost, \n",
    "#               desired_distance, \n",
    "#               desired_velocity,\n",
    "# ground_truth_parameters = torch.tensor([1.0, 1.0, 0.5, 1.0])\n",
    "# ground_truth_parameters_np = ground_truth_parameters.cpu().numpy()\n",
    "control_limit = 100.0 # this is the constraint on the control\n",
    "T = 5 # look-ahead horizon\n",
    "\n",
    "\n",
    "# define the dynamics and cost function\n",
    "def dynamics_torch(xt, ut, acceleration_of_other_car = torch.tensor([0.])):\n",
    "    return A_torch @ xt + B1_torch @ ut + B2_torch @ acceleration_of_other_car\n",
    "\n",
    "def dynamics_np(xt, ut, acceleration_of_other_car = np.array([0.])):\n",
    "    return A @ xt + B1 @ ut + B2 @ acceleration_of_other_car\n",
    "\n",
    "def cost(xt, ut):\n",
    "    return (ground_truth_parameters*(xt.pow(2))).sum() + ut.pow(2).sum()\n",
    "\n",
    "\n",
    "def construct_differentiable_mpc_problem(desired_speed):\n",
    "    # belows are the parameters of the MPC problem\n",
    "    x = cp.Parameter(n)\n",
    "    inferred_parameters = cp.Parameter(3, nonneg=True) # this is the parameters of the problem\n",
    "    acceleration_of_other_car = cp.Parameter(1)\n",
    "    # belows are the decision variables of the MPC problem\n",
    "    states = [cp.Variable(n) for _ in range(T)]\n",
    "    controls = [cp.Variable(m) for _ in range(T)]\n",
    "    # initial constraints\n",
    "    constraints = [states[0] == x, \n",
    "        cp.norm(controls[0], 'inf') <= control_limit,\n",
    "        states[0][0] <= states[0][2] - inferred_parameters[2]] \n",
    "    # initial objective\n",
    "    # \n",
    "    objective = cp.square(inferred_parameters[2]-(states[0][2]-states[0][0])) +\\\n",
    "        cp.multiply(inferred_parameters[0], cp.square(states[0][1] - desired_speed))+\\\n",
    "        cp.multiply(inferred_parameters[1], cp.square(controls[0])) \n",
    "    for t in range(1, T):\n",
    "        # objective\n",
    "        #\n",
    "        objective = cp.square(inferred_parameters[2]-(states[t][2]-states[t][0])) +\\\n",
    "            cp.multiply(inferred_parameters[0], cp.square(states[t][1] - desired_speed))+\\\n",
    "            cp.multiply(inferred_parameters[1], cp.square(controls[t])) \n",
    "        # dynamics constraints\n",
    "        constraints += [states[t] == A @ states[t-1] +\\\n",
    "            B1 @ controls[t-1] +\\\n",
    "            B2 @ acceleration_of_other_car] \n",
    "        # control constraints\n",
    "        constraints += [cp.norm(controls[t], 'inf') <= control_limit]\n",
    "        constraints += [states[t][0] <= states[t][2]- inferred_parameters[2]] \n",
    "    problem = cp.Problem(cp.Minimize(objective), constraints)\n",
    "    return CvxpyLayer(problem, variables=[controls[0]], parameters=[x, acceleration_of_other_car, inferred_parameters])\n",
    "\n",
    "x0 = torch.tensor([0., 100, 1000, 100])\n",
    "acceleration_of_other_car = torch.tensor([0.])\n",
    "theta_0 = 1.0 # \n",
    "theta_1 = 10.0\n",
    "safe_distance = 500.\n",
    "desired_speed = 1340.\n",
    "\n",
    "mpc_problem = construct_differentiable_mpc_problem(desired_speed)\n",
    "acceleration = mpc_problem(x0, acceleration_of_other_car, torch.tensor([theta_0, theta_1, safe_distance]))\n",
    "acceleration"
   ]
  },
  {
   "cell_type": "code",
   "execution_count": 9,
   "metadata": {},
   "outputs": [],
   "source": [
    "from cvxpylayers.torch import CvxpyLayer\n",
    "torch.set_default_dtype(torch.double)\n",
    "torch.set_default_device('cpu')\n",
    "\n",
    "# define the nominal dynamics\n",
    "n = 4 # state dimension\n",
    "m = 1 # control dimension\n",
    "dt = 0.1 # time integrator\n",
    "A_np = np.array([[1., dt],[0, 1.]]) # dynamics of the ego car\n",
    "A = np.kron(np.eye(2), A_np) # dynamics of the two cars\n",
    "B1 = np.array([0,dt,0,0]).reshape(-1,1) # control of the ego car\n",
    "B2 = np.array([0,0,0,dt]).reshape(-1,1) # control of the other car\n",
    "\n",
    "A_torch = torch.tensor(A)\n",
    "B1_torch = torch.tensor(B1)\n",
    "B2_torch = torch.tensor(B2)\n",
    "def construct_mpc_problem(x, inferred_parameters, desired_speed, acceleration_of_other_car):\n",
    "    # belows are the parameters of the MPC problem\n",
    "    # x = cp.Parameter(n)\n",
    "    # inferred_parameters = cp.Parameter(3, nonneg=True) # this is the parameters of the problem\n",
    "    # acceleration_of_other_car = cp.Parameter(1)\n",
    "    # belows are the decision variables of the MPC problem\n",
    "    states = [cp.Variable(n) for _ in range(T)]\n",
    "    controls = [cp.Variable(m) for _ in range(T)]\n",
    "    # initial constraints\n",
    "    constraints = [states[0] == x, \n",
    "        cp.norm(controls[0], 'inf') <= control_limit,\n",
    "        states[0][0] <= states[0][2] - inferred_parameters[2]] \n",
    "    # initial objective\n",
    "    # \n",
    "    objective = cp.square(inferred_parameters[2]-(states[0][2]-states[0][0])) +\\\n",
    "        cp.multiply(inferred_parameters[0], cp.square(states[0][1] - desired_speed))+\\\n",
    "        cp.multiply(inferred_parameters[1], cp.square(controls[0])) \n",
    "    for t in range(1, T):\n",
    "        # objective\n",
    "        #\n",
    "        objective = cp.square(inferred_parameters[2]-(states[t][2]-states[t][0])) +\\\n",
    "            cp.multiply(inferred_parameters[0], cp.square(states[t][1] - desired_speed))+\\\n",
    "            cp.multiply(inferred_parameters[1], cp.square(controls[t])) \n",
    "        # dynamics constraints\n",
    "        constraints += [states[t] == A @ states[t-1] +\\\n",
    "            B1 @ controls[t-1] +\\\n",
    "            B2 @ acceleration_of_other_car] \n",
    "        # control constraints\n",
    "        constraints += [cp.norm(controls[t], 'inf') <= control_limit]\n",
    "        constraints += [states[t][0] <= states[t][2]- inferred_parameters[2]] \n",
    "    problem = cp.Problem(cp.Minimize(objective), constraints)\n",
    "    problem.solve()\n",
    "    print(\"sollution status: \", problem.status)\n",
    "    return controls[0].value\n",
    "    # return CvxpyLayer(problem, variables=[controls[0]], parameters=[x, acceleration_of_other_car, inferred_parameters])\n"
   ]
  },
  {
   "cell_type": "code",
   "execution_count": 10,
   "metadata": {},
   "outputs": [
    {
     "name": "stdout",
     "output_type": "stream",
     "text": [
      "sollution status:  optimal\n"
     ]
    },
    {
     "data": {
      "text/plain": [
       "array([100.])"
      ]
     },
     "execution_count": 10,
     "metadata": {},
     "output_type": "execute_result"
    }
   ],
   "source": [
    "control_limit = 100.0 # this is the constraint on the control\n",
    "T = 5 # look-ahead horizon\n",
    "x0 = torch.tensor([0., 1340, 1000, 1340])\n",
    "x = x0\n",
    "acceleration_of_other_car = np.array([0.])\n",
    "theta_0 = 1.0 # \n",
    "theta_1 = 1.0 # control cost\n",
    "safe_distance = 500.\n",
    "desired_speed = 1340.\n",
    "inferred_parameters = torch.tensor([theta_0, theta_1, safe_distance])\n",
    "# acceleration_of_other_car = np.array([0.0])\n",
    "acceleration = construct_mpc_problem(x, inferred_parameters, desired_speed,acceleration_of_other_car)\n",
    "# acceleration = mpc_problem(x0, acceleration_of_other_car, torch.tensor([theta_0, theta_1, safe_distance]))\n",
    "acceleration"
   ]
  },
  {
   "cell_type": "code",
   "execution_count": 11,
   "metadata": {},
   "outputs": [
    {
     "data": {
      "text/plain": [
       "array([100.])"
      ]
     },
     "execution_count": 11,
     "metadata": {},
     "output_type": "execute_result"
    }
   ],
   "source": [
    "acceleration"
   ]
  }
 ],
 "metadata": {
  "kernelspec": {
   "display_name": "cvxpy",
   "language": "python",
   "name": "python3"
  },
  "language_info": {
   "codemirror_mode": {
    "name": "ipython",
    "version": 3
   },
   "file_extension": ".py",
   "mimetype": "text/x-python",
   "name": "python",
   "nbconvert_exporter": "python",
   "pygments_lexer": "ipython3",
   "version": "3.9.17"
  },
  "orig_nbformat": 4
 },
 "nbformat": 4,
 "nbformat_minor": 2
}
