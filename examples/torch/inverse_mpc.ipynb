{
 "cells": [
  {
   "cell_type": "markdown",
   "metadata": {},
   "source": [
    "# Inverse MPC\n",
    "\n",
    "This notebook accompanies the paper [Learning Convex Optimization Models](https://web.stanford.edu/~boyd/papers/learning_copt_models.html)."
   ]
  },
  {
   "cell_type": "code",
   "execution_count": 13,
   "metadata": {},
   "outputs": [],
   "source": [
    "\n",
    "\n",
    "\n",
    "import cvxpy as cp\n",
    "import torch\n",
    "from cvxpylayers.torch import CvxpyLayer\n",
    "\n",
    "n, m = 2, 3\n",
    "x = cp.Variable(n)\n",
    "A = cp.Parameter((m, n))\n",
    "b = cp.Parameter(m)\n",
    "constraints = [x >= 0]\n",
    "objective = cp.Minimize(0.5 * cp.pnorm(A @ x - b, p=1))\n",
    "problem = cp.Problem(objective, constraints)\n",
    "assert problem.is_dpp()\n",
    "\n",
    "# parameters is the problem parameters\n",
    "# variables is the problem variables to be optimized\n",
    "cvxpylayer = CvxpyLayer(problem, parameters=[A, b], variables=[x])\n",
    "A_tch = torch.randn(m, n, requires_grad=True)\n",
    "b_tch = torch.randn(m, requires_grad=True)\n",
    "\n",
    "# solve the problem\n",
    "solution, = cvxpylayer(A_tch, b_tch)\n",
    "\n",
    "# compute the gradient of the sum of the solution with respect to A, b\n",
    "solution.sum().backward()\n",
    "\n",
    "\n",
    "\n"
   ]
  },
  {
   "cell_type": "code",
   "execution_count": null,
   "metadata": {},
   "outputs": [],
   "source": []
  },
  {
   "cell_type": "code",
   "execution_count": 1,
   "metadata": {},
   "outputs": [],
   "source": [
    "import cvxpy as cp\n",
    "import matplotlib.pyplot as plt\n",
    "import numpy as np\n",
    "import torch\n",
    "from tqdm.notebook import tqdm\n",
    "\n",
    "from cvxpylayers.torch import CvxpyLayer\n",
    "\n",
    "import latexify\n",
    "# latexify.latexify()\n",
    "%matplotlib inline\n",
    "\n",
    "torch.set_default_dtype(torch.double)\n",
    "# torch.set_default_device('cuda:3')\n"
   ]
  },
  {
   "cell_type": "code",
   "execution_count": 4,
   "metadata": {},
   "outputs": [],
   "source": [
    "# TODO: make a toy 1D toy example and be able to generate expert demonstration and infer the hidden cost parameter!\n",
    "# TODO: how to get evaluation loss?\n"
   ]
  },
  {
   "cell_type": "code",
   "execution_count": 2,
   "metadata": {},
   "outputs": [],
   "source": [
    "n = 2\n",
    "m = 1\n",
    "A_np = np.array([[1., 0.1],[0, 1.]])\n",
    "B_np = np.array([0,1.]).reshape(-1,1)\n",
    "A = torch.tensor(A_np)\n",
    "B = torch.tensor(B_np)\n",
    "weights = torch.tensor([0.5,1.5])\n",
    "weights_np = weights.cpu().numpy() # numpy version of the weights\n",
    "beta = 0.5\n",
    "T = 5 # look-ahead horizon\n",
    "def dynamics(xt, ut):\n",
    "    return A @ xt + B @ ut #+ torch.randn(xt.shape)\n",
    "\n",
    "def stage_cost(xt, ut):\n",
    "    return (weights*(xt.pow(2))).sum() + ut.pow(2).sum()"
   ]
  },
  {
   "cell_type": "code",
   "execution_count": 12,
   "metadata": {},
   "outputs": [
    {
     "data": {
      "text/plain": [
       "(tensor([-0.5003]),)"
      ]
     },
     "execution_count": 12,
     "metadata": {},
     "output_type": "execute_result"
    }
   ],
   "source": [
    "mpc_policy(torch.tensor([1.0,1.0]))"
   ]
  },
  {
   "cell_type": "code",
   "execution_count": 5,
   "metadata": {},
   "outputs": [],
   "source": [
    "def construct_mpc_problem():\n",
    "    x = cp.Parameter(n) # this is the parameters of the problem\n",
    "    states = [cp.Variable(n) for _ in range(T)] # this is the decision variables of MPC\n",
    "    controls = [cp.Variable(m) for _ in range(T)] # this is the decision variables of MPC\n",
    "    constraints = [states[0] == x, cp.norm(controls[0], 'inf') <= beta] # initial constraints\n",
    "    objective = cp.sum(cp.multiply(weights_np, cp.square(states[0]))) + cp.sum_squares(controls[0]) # initial objective\n",
    "    for t in range(1, T):\n",
    "        objective += cp.sum(cp.multiply(weights_np, cp.square(states[t]))) + cp.sum_squares(controls[t])\n",
    "        constraints += [states[t] == A_np @ states[t-1] + B_np @ controls[t-1]]\n",
    "        constraints += [cp.norm(controls[t], 'inf') <= beta] \n",
    "    problem = cp.Problem(cp.Minimize(objective), constraints)\n",
    "    return CvxpyLayer(problem, variables=[controls[0]], parameters=[x]) # why only the first control is optimized?\n",
    "\n",
    "mpc_policy = construct_mpc_problem()"
   ]
  },
  {
   "cell_type": "code",
   "execution_count": 6,
   "metadata": {},
   "outputs": [
    {
     "data": {
      "application/vnd.jupyter.widget-view+json": {
       "model_id": "91406e237eec42c4a778cb4ba6d7c870",
       "version_major": 2,
       "version_minor": 0
      },
      "text/plain": [
       "  0%|          | 0/1000 [00:00<?, ?it/s]"
      ]
     },
     "metadata": {},
     "output_type": "display_data"
    },
    {
     "data": {
      "application/vnd.jupyter.widget-view+json": {
       "model_id": "0e456dc6aba04f2b851308f913380e21",
       "version_major": 2,
       "version_minor": 0
      },
      "text/plain": [
       "  0%|          | 0/1000 [00:00<?, ?it/s]"
      ]
     },
     "metadata": {},
     "output_type": "display_data"
    }
   ],
   "source": [
    "def simulate(policy, n_iters=1000):\n",
    "    # x0 = torch.randn(n) # pick a random initial state\n",
    "    x0 = torch.tensor([1.0, 1.0])\n",
    "    states = [x0]\n",
    "    controls = []\n",
    "    costs = []\n",
    "    for t in tqdm(range(n_iters)):\n",
    "        xt = states[-1] # current state\n",
    "        ut = policy(xt)[0] # current control\n",
    "        controls.append(ut)\n",
    "        costs.append(stage_cost(xt, ut).item())\n",
    "        states.append(dynamics(xt, ut))\n",
    "    return states[:-1], controls, costs\n",
    "    \n",
    "states, controls, costs = simulate(mpc_policy)\n",
    "\n",
    "for control in controls:\n",
    "    control.add_(torch.randn(control.shape))\n",
    "    control.clamp_(-beta, beta)\n",
    "\n",
    "\n",
    "_, val_mpc_controls, val_mpc_costs = simulate(mpc_policy)\n",
    "for control in val_mpc_controls:\n",
    "    control.add_(torch.randn(control.shape))\n",
    "    control.clamp_(-beta, beta)"
   ]
  },
  {
   "cell_type": "code",
   "execution_count": 7,
   "metadata": {},
   "outputs": [],
   "source": [
    "def mse(preds, actual):\n",
    "    preds = torch.stack(preds, dim=0)\n",
    "    actual = torch.stack(actual, dim=0)\n",
    "    return (preds - actual).pow(2).mean(axis=1).mean(axis=0).item()"
   ]
  },
  {
   "cell_type": "code",
   "execution_count": null,
   "metadata": {},
   "outputs": [],
   "source": []
  },
  {
   "cell_type": "code",
   "execution_count": 6,
   "metadata": {},
   "outputs": [
    {
     "data": {
      "application/vnd.jupyter.widget-view+json": {
       "model_id": "918a463fa30647e09ea77684ca412da8",
       "version_major": 2,
       "version_minor": 0
      },
      "text/plain": [
       "  0%|          | 0/1000 [00:00<?, ?it/s]"
      ]
     },
     "metadata": {},
     "output_type": "display_data"
    },
    {
     "data": {
      "text/plain": [
       "0.07708732736943641"
      ]
     },
     "execution_count": 6,
     "metadata": {},
     "output_type": "execute_result"
    }
   ],
   "source": [
    "_, true_copt_controls, _ = simulate(mpc_policy) # forward simulate\n",
    "true_mse = mse(true_copt_controls, val_mpc_controls)\n",
    "true_mse"
   ]
  },
  {
   "cell_type": "code",
   "execution_count": 7,
   "metadata": {},
   "outputs": [],
   "source": [
    "# this is the lifted version of the MPC problem\n",
    "def construct_agent_mpc_problem():\n",
    "    x = cp.Parameter(n)\n",
    "    weights = cp.Parameter(n, nonneg=True)\n",
    "    states = [cp.Variable(n) for _ in range(T)]\n",
    "    controls = [cp.Variable(m) for _ in range(T)]\n",
    "    constraints = [states[0] == x, cp.norm(controls[0], 'inf') <= beta]\n",
    "    objective = cp.sum(cp.multiply(weights, cp.square(states[0]))) + cp.sum_squares(controls[0])\n",
    "    for t in range(1, T):\n",
    "        objective += cp.sum(cp.multiply(weights, cp.square(states[t]))) + cp.sum_squares(controls[t])\n",
    "        constraints += [states[t] == A_np @ states[t-1] + B_np @ controls[t-1]]\n",
    "        constraints += [cp.norm(controls[t], 'inf') <= beta] \n",
    "    problem = cp.Problem(cp.Minimize(objective), constraints)\n",
    "    return CvxpyLayer(problem, variables=[controls[0]], parameters=[x, weights])"
   ]
  },
  {
   "cell_type": "code",
   "execution_count": 14,
   "metadata": {},
   "outputs": [
    {
     "ename": "NameError",
     "evalue": "name 'construct_agent_mpc_problem' is not defined",
     "output_type": "error",
     "traceback": [
      "\u001b[0;31m---------------------------------------------------------------------------\u001b[0m",
      "\u001b[0;31mNameError\u001b[0m                                 Traceback (most recent call last)",
      "Cell \u001b[0;32mIn[14], line 1\u001b[0m\n\u001b[0;32m----> 1\u001b[0m adp_policy \u001b[39m=\u001b[39m construct_agent_mpc_problem()\n\u001b[1;32m      5\u001b[0m weights_tch \u001b[39m=\u001b[39m \u001b[39m0.5\u001b[39m\u001b[39m*\u001b[39mtorch\u001b[39m.\u001b[39mones(n, requires_grad\u001b[39m=\u001b[39m\u001b[39mTrue\u001b[39;00m)\n\u001b[1;32m      6\u001b[0m state_feedback_policy \u001b[39m=\u001b[39m \u001b[39mlambda\u001b[39;00m x: adp_policy(x, weights_tch)\n",
      "\u001b[0;31mNameError\u001b[0m: name 'construct_agent_mpc_problem' is not defined"
     ]
    }
   ],
   "source": [
    "adp_policy = construct_agent_mpc_problem()\n",
    "\n",
    "\n",
    "\n",
    "weights_tch = 0.5*torch.ones(n, requires_grad=True)\n",
    "state_feedback_policy = lambda x: adp_policy(x, weights_tch)\n",
    "\n",
    "epochs = 20 # this is for training\n",
    "val_losses = []\n",
    "losses = []\n",
    "with torch.no_grad():\n",
    "    _, initial_preds, _ = simulate(state_feedback_policy)\n",
    "    val_losses.append(mse(initial_preds, val_mpc_controls))\n",
    "    print(val_losses[-1])\n",
    "opt = torch.optim.Adam([weights_tch], lr=3e-4) # this defines the optimizer\n",
    "\n",
    "# We finally began the training loop!\n",
    "\n",
    "for epoch in range(epochs):\n",
    "    print('Epoch: ', epoch)\n",
    "    for xt, ut in tqdm(zip(states, controls)):\n",
    "        opt.zero_grad()\n",
    "        ut_hat = adp_policy(xt, weights_tch)[0]\n",
    "        loss = (ut - ut_hat).pow(2).mean()\n",
    "        loss.backward()\n",
    "        losses.append(loss.item())\n",
    "        opt.step()\n",
    "    with torch.no_grad():\n",
    "        weights_tch.data = weights_tch.relu()\n",
    "        _, pred_ctrls, _ = simulate(state_feedback_policy)\n",
    "        val_losses.append(mse(pred_ctrls, val_mpc_controls))\n",
    "    print(val_losses[-1])"
   ]
  },
  {
   "cell_type": "code",
   "execution_count": null,
   "metadata": {
    "scrolled": true
   },
   "outputs": [
    {
     "data": {
      "text/plain": [
       "[<matplotlib.lines.Line2D at 0x7efc88639fa0>]"
      ]
     },
     "execution_count": 9,
     "metadata": {},
     "output_type": "execute_result"
    },
    {
     "data": {
      "image/png": "[encoded data removed]",
      "text/plain": [
       "<Figure size 640x480 with 1 Axes>"
      ]
     },
     "metadata": {},
     "output_type": "display_data"
    }
   ],
   "source": [
    "plt.plot([item - true_mse for item in val_losses])"
   ]
  },
  {
   "cell_type": "code",
   "execution_count": null,
   "metadata": {},
   "outputs": [],
   "source": [
    "state_feedback_policy = lambda x: adp_policy(x, weights_tch)\n",
    "agent_states, agent_controls, agent_costs = simulate(state_feedback_policy)"
   ]
  },
  {
   "cell_type": "code",
   "execution_count": 12,
   "metadata": {},
   "outputs": [
    {
     "data": {
      "text/plain": [
       "array([0.5, 1.5])"
      ]
     },
     "execution_count": 12,
     "metadata": {},
     "output_type": "execute_result"
    }
   ],
   "source": [
    "weights_np"
   ]
  },
  {
   "cell_type": "code",
   "execution_count": 11,
   "metadata": {},
   "outputs": [
    {
     "data": {
      "text/plain": [
       "tensor([0.9522, 1.0470], device='cuda:3', requires_grad=True)"
      ]
     },
     "execution_count": 11,
     "metadata": {},
     "output_type": "execute_result"
    }
   ],
   "source": [
    "weights_tch"
   ]
  },
  {
   "cell_type": "code",
   "execution_count": null,
   "metadata": {},
   "outputs": [],
   "source": [
    "def plot_weights(w, h):\n",
    "    fig = plt.figure()\n",
    "    fig.set_size_inches((w, h))\n",
    "    plt.plot(weights_tch.detach().numpy(), linestyle='-', color='k', label='learned')\n",
    "    plt.plot(weights_np, linestyle='--', color='k', label='true')\n",
    "    plt.xlabel(r'$i$')\n",
    "    plt.ylabel(r'$\\theta_i$')\n",
    "    plt.legend()\n",
    "    plt.tight_layout()"
   ]
  },
  {
   "cell_type": "code",
   "execution_count": null,
   "metadata": {},
   "outputs": [],
   "source": [
    "w, h = 10., 3.5\n",
    "plot_weights(w, h)\n",
    "plt.show()"
   ]
  },
  {
   "cell_type": "markdown",
   "metadata": {},
   "source": [
    "### NN"
   ]
  },
  {
   "cell_type": "code",
   "execution_count": null,
   "metadata": {},
   "outputs": [],
   "source": [
    "class FF(torch.nn.Module):\n",
    "    def __init__(self):\n",
    "        super(FF, self).__init__()\n",
    "        self.fc1 = torch.nn.Linear(in_features=n, out_features=n)\n",
    "        self.fc2 = torch.nn.Linear(in_features=n, out_features=m)\n",
    "        \n",
    "    def forward(self, x):\n",
    "        h1 = self.fc1(x).relu()\n",
    "        return self.fc2(h1).clamp(-beta, beta)"
   ]
  },
  {
   "cell_type": "code",
   "execution_count": null,
   "metadata": {},
   "outputs": [],
   "source": [
    "torch.random.manual_seed(0)\n",
    "ff = FF()\n",
    "\n",
    "\n",
    "epochs = 100\n",
    "nn_losses = []\n",
    "val_nn_losses = []\n",
    "opt = torch.optim.Adam(ff.parameters(), lr=3e-4)\n",
    "for epoch in range(epochs):\n",
    "    print('Epoch: ', epoch)\n",
    "    for xt, ut in tqdm(zip(states, controls)):\n",
    "        opt.zero_grad()\n",
    "        ut_hat = ff(xt)\n",
    "        loss = (ut - ut_hat).pow(2).mean()\n",
    "        loss.backward()\n",
    "        nn_losses.append(loss.item())\n",
    "        opt.step()\n",
    "    _, val_preds, _ = simulate(lambda x: [ff(x)], seed=val_seed)\n",
    "    with torch.no_grad():\n",
    "        val_nn_losses.append(mse(val_preds, val_mpc_controls))\n",
    "    print(val_nn_losses[-1])"
   ]
  },
  {
   "cell_type": "code",
   "execution_count": null,
   "metadata": {},
   "outputs": [],
   "source": [
    "val_losses[-1]"
   ]
  },
  {
   "cell_type": "code",
   "execution_count": null,
   "metadata": {},
   "outputs": [],
   "source": [
    "val_nn_losses[-1]"
   ]
  },
  {
   "cell_type": "code",
   "execution_count": null,
   "metadata": {},
   "outputs": [],
   "source": [
    "plt.plot(val_nn_losses)"
   ]
  },
  {
   "cell_type": "code",
   "execution_count": null,
   "metadata": {},
   "outputs": [],
   "source": [
    "def plot_losses(w, h):\n",
    "    fig = plt.figure()\n",
    "    fig.set_size_inches((w, h))\n",
    "    plt.axhline(val_nn_losses[-1], color='k', linestyle='-.', label='NN')    \n",
    "    plt.plot(np.arange(len(val_losses)) + 1, val_losses, color='k', label='COM')\n",
    "    plt.axhline(true_mse, color='k', linestyle='--', label='true')\n",
    "    plt.xticks([1, 5, 10, 15, 20])\n",
    "    plt.xlabel('iteration')\n",
    "    plt.ylabel('validation loss')\n",
    "    plt.legend(loc='upper right')\n",
    "    plt.tight_layout()"
   ]
  },
  {
   "cell_type": "code",
   "execution_count": null,
   "metadata": {},
   "outputs": [],
   "source": [
    "w, h = 10, 3.5\n",
    "plot_losses(w, h)\n",
    "plt.show()"
   ]
  },
  {
   "cell_type": "code",
   "execution_count": null,
   "metadata": {},
   "outputs": [],
   "source": [
    "%load_ext autoreload\n",
    "%autoreload 2\n",
    "\n",
    "import latexify\n",
    "# latexify.latexify()\n",
    "\n",
    "w = 10\n",
    "h = 3.5\n",
    "\n",
    "fig, ax = plt.subplots(1, 2)\n",
    "fig.set_size_inches(w, h)\n",
    "\n",
    "ax[1].plot(weights_tch.detach().numpy(), linestyle='-', color='k', label='learned')\n",
    "ax[1].plot(weights_np, linestyle='--', color='k', label='true')\n",
    "ax[1].set_xlabel(r'$i$')\n",
    "ax[1].set_ylabel(r'$\\theta_i$')\n",
    "ax[1].set_xticks([0, 2,4, 6, 8])\n",
    "ax[1].legend()\n",
    "    \n",
    "ax[0].axhline(val_nn_losses[-1], color='k', linestyle='-.', label='NN')\n",
    "ax[0].plot(np.arange(len(val_losses)) + 1, val_losses, color='k', label='COM')\n",
    "ax[0].axhline(true_mse, color='k', linestyle='--', label='true')\n",
    "ax[0].set_xticks([1, 5, 10, 15, 20])\n",
    "ax[0].set_xlabel('iteration')\n",
    "ax[0].set_ylabel('validation loss')\n",
    "ax[0].legend(loc='upper right')\n",
    "\n",
    "plt.tight_layout()\n",
    "plt.show()"
   ]
  }
 ],
 "metadata": {
  "kernelspec": {
   "display_name": "Python 3",
   "language": "python",
   "name": "python3"
  },
  "language_info": {
   "codemirror_mode": {
    "name": "ipython",
    "version": 3
   },
   "file_extension": ".py",
   "mimetype": "text/x-python",
   "name": "python",
   "nbconvert_exporter": "python",
   "pygments_lexer": "ipython3",
   "version": "3.9.17"
  }
 },
 "nbformat": 4,
 "nbformat_minor": 2
}
