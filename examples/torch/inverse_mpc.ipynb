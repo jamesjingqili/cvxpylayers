{
 "cells": [
  {
   "cell_type": "markdown",
   "metadata": {},
   "source": [
    "# Inverse MPC\n",
    "\n",
    "This notebook accompanies the paper [Learning Convex Optimization Models](https://web.stanford.edu/~boyd/papers/learning_copt_models.html)."
   ]
  },
  {
   "cell_type": "code",
   "execution_count": 2,
   "metadata": {},
   "outputs": [],
   "source": [
    "import cvxpy as cp\n",
    "import matplotlib.pyplot as plt\n",
    "import numpy as np\n",
    "import torch\n",
    "from tqdm import tqdm\n",
    "\n",
    "\n",
    "\n",
    "# lessons learned:\n",
    "# 1. the problem should feasible, convex, for any given parameters\n",
    "# 2. Make sure the there is no product of two parameters that to be inferred\n",
    "\n",
    "\n",
    "\n",
    "# ----------------- 1. Define the MPC problem -----------------\n",
    "\n",
    "\n",
    "\n",
    "from cvxpylayers.torch import CvxpyLayer\n",
    "torch.set_default_dtype(torch.double)\n",
    "torch.set_default_device('cuda:3')\n",
    "\n",
    "# define the nominal dynamics\n",
    "n = 4 # state dimension\n",
    "m = 1 # control dimension\n",
    "dt = 0.1 # time integrator\n",
    "A_np = np.array([[1., dt],[0, 1.]]) # dynamics of the ego car\n",
    "A = np.kron(np.eye(2), A_np) # dynamics of the two cars\n",
    "B1 = np.array([0,dt,0,0]).reshape(-1,1) # control of the ego car\n",
    "B2 = np.array([0,0,0,dt]).reshape(-1,1) # control of the other car\n",
    "\n",
    "A_torch = torch.tensor(A)\n",
    "B1_torch = torch.tensor(B1)\n",
    "B2_torch = torch.tensor(B2)\n",
    "\n",
    "\n",
    "# define the ground truth parameters of the cost function\n",
    "# parameters:   \n",
    "#               weight_on_velocity_cost, \n",
    "#               weight_on_acceleration_cost, \n",
    "#               desired_distance, \n",
    "#               desired_velocity,\n",
    "ground_truth_parameters = torch.tensor([1.0, 1.0, 0.5, 1.0])\n",
    "ground_truth_parameters_np = ground_truth_parameters.cpu().numpy()\n",
    "control_limit = 1.0 # this is the constraint on the control\n",
    "T = 5 # look-ahead horizon\n",
    "\n",
    "\n",
    "# define the dynamics and cost function\n",
    "def dynamics_torch(xt, ut, acceleration_of_other_car = torch.tensor([0.])):\n",
    "    return A_torch @ xt + B1_torch @ ut + B2_torch @ acceleration_of_other_car\n",
    "\n",
    "def dynamics_np(xt, ut, acceleration_of_other_car = np.array([0.])):\n",
    "    return A @ xt + B1 @ ut + B2 @ acceleration_of_other_car\n",
    "\n",
    "def cost(xt, ut):\n",
    "    return (ground_truth_parameters*(xt.pow(2))).sum() + ut.pow(2).sum()\n",
    "\n",
    "\n",
    "# define MPC problem as below:\n",
    "def construct_mpc_problem():\n",
    "    # belows are the parameters of the MPC problem\n",
    "    x = cp.Parameter(n)\n",
    "    acceleration_of_other_car = cp.Parameter(1)\n",
    "    # belows are the decision variables of the MPC problem\n",
    "    states = [cp.Variable(n) for _ in range(T)]\n",
    "    controls = [cp.Variable(m) for _ in range(T)]\n",
    "    # initial constraints\n",
    "    constraints = [states[0] == x, \n",
    "        cp.norm(controls[0], 'inf') <= control_limit,\n",
    "        states[0][0] <= states[0][2] - ground_truth_parameters_np[2]] \n",
    "    # initial objective\n",
    "    # \n",
    "    objective = cp.square(ground_truth_parameters_np[2]-(states[0][2]-states[0][0])) +\\\n",
    "        cp.multiply(ground_truth_parameters_np[0], cp.square(states[0][1] - ground_truth_parameters_np[3]))+\\\n",
    "        cp.multiply(ground_truth_parameters_np[1], cp.square(controls[0])) \n",
    "    for t in range(1, T):\n",
    "        # objective\n",
    "        #\n",
    "        objective = cp.square(ground_truth_parameters_np[2]-(states[t][2]-states[t][0])) +\\\n",
    "            cp.multiply(ground_truth_parameters_np[0], cp.square(states[t][1] - ground_truth_parameters_np[3]))+\\\n",
    "            cp.multiply(ground_truth_parameters_np[1], cp.square(controls[t])) \n",
    "        # dynamics constraints\n",
    "        constraints += [states[t] == A @ states[t-1] +\\\n",
    "            B1 @ controls[t-1] +\\\n",
    "            B2 @ acceleration_of_other_car] \n",
    "        # control constraints\n",
    "        constraints += [cp.norm(controls[t], 'inf') <= control_limit]\n",
    "        constraints += [states[t][0] <= states[t][2]- ground_truth_parameters_np[2]] \n",
    "    problem = cp.Problem(cp.Minimize(objective), constraints)\n",
    "    return CvxpyLayer(problem, variables=[controls[0]], parameters=[x, acceleration_of_other_car])\n",
    "\n",
    "\n",
    "# simulate the closed-loop system\n",
    "def simulate(policy, x0, acceleration_of_other_car, n_iters=1):\n",
    "    states, controls, costs = [x0], [], []\n",
    "    for t in tqdm(range(n_iters)):\n",
    "        xt = states[-1] # current state\n",
    "        # import pdb; pdb.set_trace()\n",
    "        ut = policy(xt, acceleration_of_other_car)[0] # current control\n",
    "        # record control, cost, and next state:\n",
    "        controls.append(ut)\n",
    "        states.append(dynamics_torch(xt, ut, acceleration_of_other_car))\n",
    "    return states[:-1], controls\n",
    "\n",
    "\n",
    "# define the mean square error\n",
    "def mse(prediction, actual):\n",
    "    prediction = torch.stack(prediction, dim=0)\n",
    "    actual = torch.stack(actual, dim=0)\n",
    "    return (prediction - actual).pow(2).mean(axis=1).mean(axis=0).item()\n",
    "\n",
    "\n",
    "\n",
    "\n"
   ]
  },
  {
   "cell_type": "code",
   "execution_count": 1,
   "metadata": {},
   "outputs": [
    {
     "data": {
      "text/plain": [
       "(tensor([-1.6425], device='cuda:3'),)"
      ]
     },
     "execution_count": 1,
     "metadata": {},
     "output_type": "execute_result"
    }
   ],
   "source": [
    "# Chris\n",
    "import cvxpy as cp\n",
    "import matplotlib.pyplot as plt\n",
    "import numpy as np\n",
    "import torch\n",
    "from tqdm import tqdm\n",
    "\n",
    "\n",
    "\n",
    "# lessons learned:\n",
    "# 1. the problem should feasible, convex, for any given parameters\n",
    "# 2. Make sure the there is no product of two parameters that to be inferred\n",
    "\n",
    "\n",
    "\n",
    "# ----------------- 1. Define the MPC problem -----------------\n",
    "\n",
    "\n",
    "\n",
    "from cvxpylayers.torch import CvxpyLayer\n",
    "torch.set_default_dtype(torch.double)\n",
    "torch.set_default_device('cuda:3')\n",
    "\n",
    "# define the nominal dynamics\n",
    "n = 4 # state dimension\n",
    "m = 1 # control dimension\n",
    "dt = 0.1 # time integrator\n",
    "A_np = np.array([[1., dt],[0, 1.]]) # dynamics of the ego car\n",
    "A = np.kron(np.eye(2), A_np) # dynamics of the two cars\n",
    "B1 = np.array([0,dt,0,0]).reshape(-1,1) # control of the ego car\n",
    "B2 = np.array([0,0,0,dt]).reshape(-1,1) # control of the other car\n",
    "\n",
    "A_torch = torch.tensor(A)\n",
    "B1_torch = torch.tensor(B1)\n",
    "B2_torch = torch.tensor(B2)\n",
    "\n",
    "\n",
    "# define the ground truth parameters of the cost function\n",
    "# parameters:   \n",
    "#               weight_on_velocity_cost, \n",
    "#               weight_on_acceleration_cost, \n",
    "#               desired_distance, \n",
    "#               desired_velocity,\n",
    "# ground_truth_parameters = torch.tensor([1.0, 1.0, 0.5, 1.0])\n",
    "# ground_truth_parameters_np = ground_truth_parameters.cpu().numpy()\n",
    "control_limit = 10.0 # this is the constraint on the control\n",
    "T = 5 # look-ahead horizon\n",
    "\n",
    "\n",
    "# define the dynamics and cost function\n",
    "def dynamics_torch(xt, ut, acceleration_of_other_car = torch.tensor([0.])):\n",
    "    return A_torch @ xt + B1_torch @ ut + B2_torch @ acceleration_of_other_car\n",
    "\n",
    "def dynamics_np(xt, ut, acceleration_of_other_car = np.array([0.])):\n",
    "    return A @ xt + B1 @ ut + B2 @ acceleration_of_other_car\n",
    "\n",
    "def cost(xt, ut):\n",
    "    return (ground_truth_parameters*(xt.pow(2))).sum() + ut.pow(2).sum()\n",
    "\n",
    "\n",
    "def construct_differentiable_mpc_problem(desired_speed):\n",
    "    # belows are the parameters of the MPC problem\n",
    "    x = cp.Parameter(n)\n",
    "    inferred_parameters = cp.Parameter(3, nonneg=True) # this is the parameters of the problem\n",
    "    acceleration_of_other_car = cp.Parameter(1)\n",
    "    # belows are the decision variables of the MPC problem\n",
    "    states = [cp.Variable(n) for _ in range(T)]\n",
    "    controls = [cp.Variable(m) for _ in range(T)]\n",
    "    # initial constraints\n",
    "    constraints = [states[0] == x, \n",
    "        cp.norm(controls[0], 'inf') <= control_limit,\n",
    "        states[0][0] <= states[0][2] - inferred_parameters[2]] \n",
    "    # initial objective\n",
    "    # \n",
    "    objective = cp.square(inferred_parameters[2]-(states[0][2]-states[0][0])) +\\\n",
    "        cp.multiply(inferred_parameters[0], cp.square(states[0][1] - desired_speed))+\\\n",
    "        cp.multiply(inferred_parameters[1], cp.square(controls[0])) \n",
    "    for t in range(1, T):\n",
    "        # objective\n",
    "        #\n",
    "        objective = cp.square(inferred_parameters[2]-(states[t][2]-states[t][0])) +\\\n",
    "            cp.multiply(inferred_parameters[0], cp.square(states[t][1] - desired_speed))+\\\n",
    "            cp.multiply(inferred_parameters[1], cp.square(controls[t])) \n",
    "        # dynamics constraints\n",
    "        constraints += [states[t] == A @ states[t-1] +\\\n",
    "            B1 @ controls[t-1] +\\\n",
    "            B2 @ acceleration_of_other_car] \n",
    "        # control constraints\n",
    "        constraints += [cp.norm(controls[t], 'inf') <= control_limit]\n",
    "        constraints += [states[t][0] <= states[t][2]- inferred_parameters[2]] \n",
    "    problem = cp.Problem(cp.Minimize(objective), constraints)\n",
    "    return CvxpyLayer(problem, variables=[controls[0]], parameters=[x, acceleration_of_other_car, inferred_parameters])\n",
    "\n",
    "x0 = torch.tensor([0., 100, 1000, 100])\n",
    "acceleration_of_other_car = torch.tensor([0.])\n",
    "theta_0 = 1.0 # \n",
    "theta_1 = 1.0\n",
    "safe_distance = 500.\n",
    "desired_speed = 1340.\n",
    "\n",
    "mpc_problem = construct_differentiable_mpc_problem(desired_speed)\n",
    "acceleration = mpc_problem(x0, acceleration_of_other_car, torch.tensor([theta_0, theta_1, safe_distance]))\n",
    "acceleration"
   ]
  },
  {
   "cell_type": "code",
   "execution_count": 3,
   "metadata": {},
   "outputs": [
    {
     "name": "stderr",
     "output_type": "stream",
     "text": [
      "100%|██████████| 100/100 [00:00<00:00, 214.72it/s]\n",
      "100%|██████████| 100/100 [00:00<00:00, 439.18it/s]\n",
      "100%|██████████| 100/100 [00:00<00:00, 451.08it/s]"
     ]
    },
    {
     "name": "stdout",
     "output_type": "stream",
     "text": [
      "0.04135958567858614\n"
     ]
    },
    {
     "name": "stderr",
     "output_type": "stream",
     "text": [
      "\n"
     ]
    }
   ],
   "source": [
    "\n",
    "\n",
    "# ----------------- 2. Differentiable MPC -----------------\n",
    "\n",
    "\n",
    "\n",
    "# define the differentiable MPC problem as below\n",
    "# The problem bellow is the same as the MPC problem except that the parameters are inferred\n",
    "def construct_differentiable_mpc_problem():\n",
    "    # belows are the parameters of the MPC problem\n",
    "    x = cp.Parameter(n)\n",
    "    inferred_parameters = cp.Parameter(4, nonneg=True) # this is the parameters of the problem\n",
    "    acceleration_of_other_car = cp.Parameter(1)\n",
    "    # belows are the decision variables of the MPC problem\n",
    "    states = [cp.Variable(n) for _ in range(T)]\n",
    "    controls = [cp.Variable(m) for _ in range(T)]\n",
    "    # initial constraints\n",
    "    constraints = [states[0] == x, \n",
    "        cp.norm(controls[0], 'inf') <= control_limit,\n",
    "        states[0][0] <= states[0][2] - inferred_parameters[2]] \n",
    "    # initial objective\n",
    "    # \n",
    "    objective = cp.square(inferred_parameters[2]-(states[0][2]-states[0][0])) +\\\n",
    "        cp.multiply(inferred_parameters[0], cp.square(states[0][1] - ground_truth_parameters_np[3]))+\\\n",
    "        cp.multiply(inferred_parameters[1], cp.square(controls[0])) \n",
    "    for t in range(1, T):\n",
    "        # objective\n",
    "        # safe distance, safe speed, and control cost\n",
    "        objective = cp.square(inferred_parameters[2]-(states[t][2]-states[t][0])) +\\\n",
    "            cp.multiply(inferred_parameters[0], cp.square(states[t][1] - ground_truth_parameters_np[3]))+\\\n",
    "            cp.multiply(inferred_parameters[1], cp.square(controls[t])) \n",
    "        # dynamics constraints\n",
    "        constraints += [states[t] == A @ states[t-1] +\\\n",
    "            B1 @ controls[t-1] +\\\n",
    "            B2 @ acceleration_of_other_car] \n",
    "        # control constraints\n",
    "        constraints += [cp.norm(controls[t], 'inf') <= control_limit]\n",
    "        constraints += [states[t][0] <= states[t][2]- inferred_parameters[2]] \n",
    "    problem = cp.Problem(cp.Minimize(objective), constraints)\n",
    "    return CvxpyLayer(problem, variables=[controls[0]], parameters=[x, acceleration_of_other_car, inferred_parameters])\n",
    "\n",
    "\n",
    "\n",
    "\n",
    "# ----------------- 3. test MPC and differentiable MPC -----------------\n",
    "\n",
    "\n",
    "\n",
    "# initial state of two cars\n",
    "x0 = torch.tensor([1.0, 0.2, 5.0, 1.0])\n",
    "acceleration_of_other_car = torch.tensor([0.])\n",
    "\n",
    "\n",
    "# define an MPC problem:\n",
    "# In this MPC problem, we want to solve for the control given the initial state x0 and \n",
    "# the acceleration of the other car\n",
    "mpc_problem = construct_mpc_problem()\n",
    "\n",
    "\n",
    "# for example, we can solve the MPC problem for the initial state x0 and the acceleration of the other car\n",
    "# Notice that the output of the function construct_mpc_problem is the first control, i.e., controls[0]\n",
    "mpc_problem(x0, acceleration_of_other_car)\n",
    "\n",
    "\n",
    "\n",
    "\n",
    "# generate expert state and control trajectories!\n",
    "expert_states, expert_controls= simulate(mpc_problem, \n",
    "                                        x0, \n",
    "                                        acceleration_of_other_car, \n",
    "                                        n_iters = 100)\n",
    "\n",
    "\n",
    "\n",
    "\n",
    "\n",
    "# define an MPC problem containing some hidden parameters that we want to infer\n",
    "inferred_mpc_problem = construct_differentiable_mpc_problem()\n",
    "\n",
    "\n",
    "# define the inferred policy: a function from a state to a control, under the inferred parameters\n",
    "inferred_policy = lambda x, acceleration_of_other_car: inferred_mpc_problem(x, \n",
    "                                                acceleration_of_other_car, \n",
    "                                                inferred_parameters_torch)\n",
    "\n",
    "\n",
    "# define the expert policy: a function from a state to a control, under the ground truth parameters\n",
    "expert_policy = lambda x, acceleration_of_other_car: mpc_problem(x, \n",
    "                                    acceleration_of_other_car)\n",
    "\n",
    "\n",
    "\n",
    "\n",
    "\n",
    "# ----------------- 4. training -----------------\n",
    "\n",
    "\n",
    "# define the inferred parameters:\n",
    "inferred_parameters_torch = torch.tensor([2.0, 2.0, 0.5, 1.0], requires_grad=True)\n",
    "\n",
    "# the training loop:\n",
    "training_epochs = 40 \n",
    "test_losses = [] \n",
    "training_losses = [] \n",
    "test_x0 = x0\n",
    "# initialize the training \n",
    "with torch.no_grad():\n",
    "    _, initial_control_prediction = simulate(inferred_policy, test_x0, acceleration_of_other_car, n_iters = 100)\n",
    "    _, test_expert_control = simulate(expert_policy, test_x0, acceleration_of_other_car, n_iters = 100)\n",
    "    test_losses.append(mse(initial_control_prediction, test_expert_control))\n",
    "    print(test_losses[-1])\n",
    "\n",
    "\n",
    "# use Adam optimizer\n",
    "opt = torch.optim.Adam([inferred_parameters_torch], lr=1e-4) \n",
    "\n"
   ]
  },
  {
   "cell_type": "code",
   "execution_count": 4,
   "metadata": {},
   "outputs": [
    {
     "name": "stdout",
     "output_type": "stream",
     "text": [
      "Epoch:  0\n"
     ]
    },
    {
     "name": "stderr",
     "output_type": "stream",
     "text": [
      "100it [00:00, 197.56it/s]\n",
      "100%|██████████| 100/100 [00:00<00:00, 446.19it/s]\n"
     ]
    },
    {
     "name": "stdout",
     "output_type": "stream",
     "text": [
      "0.04053502314320543\n",
      "Epoch:  1\n"
     ]
    },
    {
     "name": "stderr",
     "output_type": "stream",
     "text": [
      "100it [00:00, 197.69it/s]\n",
      "100%|██████████| 100/100 [00:00<00:00, 452.12it/s]\n"
     ]
    },
    {
     "name": "stdout",
     "output_type": "stream",
     "text": [
      "0.04090062372316395\n",
      "Epoch:  2\n"
     ]
    },
    {
     "name": "stderr",
     "output_type": "stream",
     "text": [
      "100it [00:00, 198.74it/s]\n",
      "100%|██████████| 100/100 [00:00<00:00, 451.17it/s]\n"
     ]
    },
    {
     "name": "stdout",
     "output_type": "stream",
     "text": [
      "0.041202786866635005\n",
      "Epoch:  3\n"
     ]
    },
    {
     "name": "stderr",
     "output_type": "stream",
     "text": [
      "100it [00:00, 174.29it/s]\n",
      "100%|██████████| 100/100 [00:00<00:00, 452.16it/s]\n"
     ]
    },
    {
     "name": "stdout",
     "output_type": "stream",
     "text": [
      "0.04087416743325937\n",
      "Epoch:  4\n"
     ]
    },
    {
     "name": "stderr",
     "output_type": "stream",
     "text": [
      "100it [00:00, 198.63it/s]\n",
      "100%|██████████| 100/100 [00:00<00:00, 453.32it/s]\n"
     ]
    },
    {
     "name": "stdout",
     "output_type": "stream",
     "text": [
      "0.04033748536230317\n",
      "Epoch:  5\n"
     ]
    },
    {
     "name": "stderr",
     "output_type": "stream",
     "text": [
      "100it [00:00, 199.41it/s]\n",
      "100%|██████████| 100/100 [00:00<00:00, 451.68it/s]\n"
     ]
    },
    {
     "name": "stdout",
     "output_type": "stream",
     "text": [
      "0.0399844320967649\n",
      "Epoch:  6\n"
     ]
    },
    {
     "name": "stderr",
     "output_type": "stream",
     "text": [
      "100it [00:00, 199.95it/s]\n",
      "100%|██████████| 100/100 [00:00<00:00, 456.10it/s]\n"
     ]
    },
    {
     "name": "stdout",
     "output_type": "stream",
     "text": [
      "0.03903578177609265\n",
      "Epoch:  7\n"
     ]
    },
    {
     "name": "stderr",
     "output_type": "stream",
     "text": [
      "100it [00:00, 200.32it/s]\n",
      "100%|██████████| 100/100 [00:00<00:00, 452.55it/s]\n"
     ]
    },
    {
     "name": "stdout",
     "output_type": "stream",
     "text": [
      "0.042333667969227634\n",
      "Epoch:  8\n"
     ]
    },
    {
     "name": "stderr",
     "output_type": "stream",
     "text": [
      "100it [00:00, 198.23it/s]\n",
      "100%|██████████| 100/100 [00:00<00:00, 453.43it/s]\n"
     ]
    },
    {
     "name": "stdout",
     "output_type": "stream",
     "text": [
      "0.038394972105005636\n",
      "Epoch:  9\n"
     ]
    },
    {
     "name": "stderr",
     "output_type": "stream",
     "text": [
      "100it [00:00, 199.61it/s]\n",
      "100%|██████████| 100/100 [00:00<00:00, 452.99it/s]\n"
     ]
    },
    {
     "name": "stdout",
     "output_type": "stream",
     "text": [
      "0.03820966197554869\n",
      "Epoch:  10\n"
     ]
    },
    {
     "name": "stderr",
     "output_type": "stream",
     "text": [
      "100it [00:00, 199.34it/s]\n",
      "100%|██████████| 100/100 [00:00<00:00, 454.99it/s]\n"
     ]
    },
    {
     "name": "stdout",
     "output_type": "stream",
     "text": [
      "0.04066527432341938\n",
      "Epoch:  11\n"
     ]
    },
    {
     "name": "stderr",
     "output_type": "stream",
     "text": [
      "100it [00:00, 199.74it/s]\n",
      "100%|██████████| 100/100 [00:00<00:00, 453.65it/s]\n"
     ]
    },
    {
     "name": "stdout",
     "output_type": "stream",
     "text": [
      "0.04011035107438043\n",
      "Epoch:  12\n"
     ]
    },
    {
     "name": "stderr",
     "output_type": "stream",
     "text": [
      "100it [00:00, 198.38it/s]\n",
      "100%|██████████| 100/100 [00:00<00:00, 452.51it/s]\n"
     ]
    },
    {
     "name": "stdout",
     "output_type": "stream",
     "text": [
      "0.03963419847626601\n",
      "Epoch:  13\n"
     ]
    },
    {
     "name": "stderr",
     "output_type": "stream",
     "text": [
      "100it [00:00, 199.15it/s]\n",
      "100%|██████████| 100/100 [00:00<00:00, 452.27it/s]\n"
     ]
    },
    {
     "name": "stdout",
     "output_type": "stream",
     "text": [
      "0.03921334461962891\n",
      "Epoch:  14\n"
     ]
    },
    {
     "name": "stderr",
     "output_type": "stream",
     "text": [
      "100it [00:00, 198.25it/s]\n",
      "100%|██████████| 100/100 [00:00<00:00, 451.31it/s]\n"
     ]
    },
    {
     "name": "stdout",
     "output_type": "stream",
     "text": [
      "0.038727377825605765\n",
      "Epoch:  15\n"
     ]
    },
    {
     "name": "stderr",
     "output_type": "stream",
     "text": [
      "100it [00:00, 183.41it/s]\n",
      "100%|██████████| 100/100 [00:00<00:00, 452.06it/s]\n"
     ]
    },
    {
     "name": "stdout",
     "output_type": "stream",
     "text": [
      "0.038008821405416796\n",
      "Epoch:  16\n"
     ]
    },
    {
     "name": "stderr",
     "output_type": "stream",
     "text": [
      "100it [00:00, 192.75it/s]\n",
      "100%|██████████| 100/100 [00:00<00:00, 451.88it/s]\n"
     ]
    },
    {
     "name": "stdout",
     "output_type": "stream",
     "text": [
      "0.03774379917545522\n",
      "Epoch:  17\n"
     ]
    },
    {
     "name": "stderr",
     "output_type": "stream",
     "text": [
      "100it [00:00, 198.09it/s]\n",
      "100%|██████████| 100/100 [00:00<00:00, 451.04it/s]\n"
     ]
    },
    {
     "name": "stdout",
     "output_type": "stream",
     "text": [
      "0.038489972172413116\n",
      "Epoch:  18\n"
     ]
    },
    {
     "name": "stderr",
     "output_type": "stream",
     "text": [
      "100it [00:00, 199.16it/s]\n",
      "100%|██████████| 100/100 [00:00<00:00, 451.22it/s]\n"
     ]
    },
    {
     "name": "stdout",
     "output_type": "stream",
     "text": [
      "0.037281158957678424\n",
      "Epoch:  19\n"
     ]
    },
    {
     "name": "stderr",
     "output_type": "stream",
     "text": [
      "100it [00:00, 198.91it/s]\n",
      "100%|██████████| 100/100 [00:00<00:00, 454.54it/s]\n"
     ]
    },
    {
     "name": "stdout",
     "output_type": "stream",
     "text": [
      "0.03765580953788782\n",
      "Epoch:  20\n"
     ]
    },
    {
     "name": "stderr",
     "output_type": "stream",
     "text": [
      "100it [00:00, 198.56it/s]\n",
      "100%|██████████| 100/100 [00:00<00:00, 451.55it/s]\n"
     ]
    },
    {
     "name": "stdout",
     "output_type": "stream",
     "text": [
      "0.037614105671898504\n",
      "Epoch:  21\n"
     ]
    },
    {
     "name": "stderr",
     "output_type": "stream",
     "text": [
      "100it [00:00, 199.04it/s]\n",
      "100%|██████████| 100/100 [00:00<00:00, 453.33it/s]\n"
     ]
    },
    {
     "name": "stdout",
     "output_type": "stream",
     "text": [
      "0.036913532680369954\n",
      "Epoch:  22\n"
     ]
    },
    {
     "name": "stderr",
     "output_type": "stream",
     "text": [
      "100it [00:00, 198.46it/s]\n",
      "100%|██████████| 100/100 [00:00<00:00, 454.00it/s]\n"
     ]
    },
    {
     "name": "stdout",
     "output_type": "stream",
     "text": [
      "0.036415335078093886\n",
      "Epoch:  23\n"
     ]
    },
    {
     "name": "stderr",
     "output_type": "stream",
     "text": [
      "100it [00:00, 196.11it/s]\n",
      "100%|██████████| 100/100 [00:00<00:00, 452.76it/s]\n"
     ]
    },
    {
     "name": "stdout",
     "output_type": "stream",
     "text": [
      "0.03624571227544584\n",
      "Epoch:  24\n"
     ]
    },
    {
     "name": "stderr",
     "output_type": "stream",
     "text": [
      "100it [00:00, 184.27it/s]\n",
      "100%|██████████| 100/100 [00:00<00:00, 451.53it/s]\n"
     ]
    },
    {
     "name": "stdout",
     "output_type": "stream",
     "text": [
      "0.03912720554549573\n",
      "Epoch:  25\n"
     ]
    },
    {
     "name": "stderr",
     "output_type": "stream",
     "text": [
      "100it [00:00, 199.63it/s]\n",
      "100%|██████████| 100/100 [00:00<00:00, 431.86it/s]\n"
     ]
    },
    {
     "name": "stdout",
     "output_type": "stream",
     "text": [
      "0.03492495400683866\n",
      "Epoch:  26\n"
     ]
    },
    {
     "name": "stderr",
     "output_type": "stream",
     "text": [
      "100it [00:00, 180.55it/s]\n",
      "100%|██████████| 100/100 [00:00<00:00, 421.40it/s]\n"
     ]
    },
    {
     "name": "stdout",
     "output_type": "stream",
     "text": [
      "0.03463135989154876\n",
      "Epoch:  27\n"
     ]
    },
    {
     "name": "stderr",
     "output_type": "stream",
     "text": [
      "100it [00:00, 197.95it/s]\n",
      "100%|██████████| 100/100 [00:00<00:00, 443.23it/s]\n"
     ]
    },
    {
     "name": "stdout",
     "output_type": "stream",
     "text": [
      "0.034420056585931\n",
      "Epoch:  28\n"
     ]
    },
    {
     "name": "stderr",
     "output_type": "stream",
     "text": [
      "100it [00:00, 199.41it/s]\n",
      "100%|██████████| 100/100 [00:00<00:00, 450.94it/s]\n"
     ]
    },
    {
     "name": "stdout",
     "output_type": "stream",
     "text": [
      "0.03717959265136792\n",
      "Epoch:  29\n"
     ]
    },
    {
     "name": "stderr",
     "output_type": "stream",
     "text": [
      "100it [00:00, 186.84it/s]\n",
      "100%|██████████| 100/100 [00:00<00:00, 452.40it/s]\n"
     ]
    },
    {
     "name": "stdout",
     "output_type": "stream",
     "text": [
      "0.03679182511584621\n",
      "Epoch:  30\n"
     ]
    },
    {
     "name": "stderr",
     "output_type": "stream",
     "text": [
      "100it [00:00, 198.60it/s]\n",
      "100%|██████████| 100/100 [00:00<00:00, 447.95it/s]\n"
     ]
    },
    {
     "name": "stdout",
     "output_type": "stream",
     "text": [
      "0.0364283862755417\n",
      "Epoch:  31\n"
     ]
    },
    {
     "name": "stderr",
     "output_type": "stream",
     "text": [
      "100it [00:00, 199.03it/s]\n",
      "100%|██████████| 100/100 [00:00<00:00, 450.33it/s]\n"
     ]
    },
    {
     "name": "stdout",
     "output_type": "stream",
     "text": [
      "0.035712374133243054\n",
      "Epoch:  32\n"
     ]
    },
    {
     "name": "stderr",
     "output_type": "stream",
     "text": [
      "100it [00:00, 198.52it/s]\n",
      "100%|██████████| 100/100 [00:00<00:00, 449.92it/s]\n"
     ]
    },
    {
     "name": "stdout",
     "output_type": "stream",
     "text": [
      "0.035061730783091306\n",
      "Epoch:  33\n"
     ]
    },
    {
     "name": "stderr",
     "output_type": "stream",
     "text": [
      "100it [00:00, 198.65it/s]\n",
      "100%|██████████| 100/100 [00:00<00:00, 449.78it/s]\n"
     ]
    },
    {
     "name": "stdout",
     "output_type": "stream",
     "text": [
      "0.03504374086893353\n",
      "Epoch:  34\n"
     ]
    },
    {
     "name": "stderr",
     "output_type": "stream",
     "text": [
      "100it [00:00, 199.90it/s]\n",
      "100%|██████████| 100/100 [00:00<00:00, 451.06it/s]\n"
     ]
    },
    {
     "name": "stdout",
     "output_type": "stream",
     "text": [
      "0.03564310547133719\n",
      "Epoch:  35\n"
     ]
    },
    {
     "name": "stderr",
     "output_type": "stream",
     "text": [
      "100it [00:00, 198.32it/s]\n",
      "100%|██████████| 100/100 [00:00<00:00, 448.98it/s]\n"
     ]
    },
    {
     "name": "stdout",
     "output_type": "stream",
     "text": [
      "0.035552908979001555\n",
      "Epoch:  36\n"
     ]
    },
    {
     "name": "stderr",
     "output_type": "stream",
     "text": [
      "100it [00:00, 198.25it/s]\n",
      "100%|██████████| 100/100 [00:00<00:00, 451.35it/s]\n"
     ]
    },
    {
     "name": "stdout",
     "output_type": "stream",
     "text": [
      "0.03399740545431328\n",
      "Epoch:  37\n"
     ]
    },
    {
     "name": "stderr",
     "output_type": "stream",
     "text": [
      "100it [00:00, 198.31it/s]\n",
      "100%|██████████| 100/100 [00:00<00:00, 448.07it/s]\n"
     ]
    },
    {
     "name": "stdout",
     "output_type": "stream",
     "text": [
      "0.03458313023493169\n",
      "Epoch:  38\n"
     ]
    },
    {
     "name": "stderr",
     "output_type": "stream",
     "text": [
      "100it [00:00, 199.48it/s]\n",
      "100%|██████████| 100/100 [00:00<00:00, 451.91it/s]\n"
     ]
    },
    {
     "name": "stdout",
     "output_type": "stream",
     "text": [
      "0.03385071764805891\n",
      "Epoch:  39\n"
     ]
    },
    {
     "name": "stderr",
     "output_type": "stream",
     "text": [
      "100it [00:00, 199.09it/s]\n",
      "100%|██████████| 100/100 [00:00<00:00, 450.66it/s]"
     ]
    },
    {
     "name": "stdout",
     "output_type": "stream",
     "text": [
      "0.033756419146725794\n",
      "Training finished!\n",
      "The inferred parameters are:  tensor([2.1948, 1.9633, 0.5094, 1.0000], device='cuda:3')\n",
      "The ground truth parameters are:  tensor([4.0000, 1.0000, 0.5000, 1.0000], device='cuda:3')\n"
     ]
    },
    {
     "name": "stderr",
     "output_type": "stream",
     "text": [
      "\n"
     ]
    }
   ],
   "source": [
    "# training begins!\n",
    "for epoch in range(training_epochs):\n",
    "    print('Epoch: ', epoch)\n",
    "    for xt, ut in tqdm(zip(expert_states, expert_controls)):\n",
    "        opt.zero_grad()\n",
    "        ut_hat = inferred_mpc_problem(xt, \n",
    "                                    acceleration_of_other_car, \n",
    "                                    inferred_parameters_torch)[0] # the output of the function is (controls[0])\n",
    "        loss = (ut - ut_hat).pow(2).mean()\n",
    "        loss.backward()\n",
    "        training_losses.append(loss.item())\n",
    "        opt.step()\n",
    "    with torch.no_grad():\n",
    "        inferred_parameters_torch.data = inferred_parameters_torch.relu()\n",
    "        _, inferred_control_prediction = simulate(inferred_policy, \n",
    "                                                    test_x0, \n",
    "                                                    acceleration_of_other_car, \n",
    "                                                    n_iters = 100)\n",
    "        test_losses.append(mse(inferred_control_prediction, test_expert_control))\n",
    "    print(test_losses[-1])\n",
    "\n",
    "\n",
    "print('Training finished!')\n",
    "\n",
    "print('The inferred parameters are: ', inferred_parameters_torch.data)\n",
    "print('The ground truth parameters are: ', ground_truth_parameters.data)\n",
    "\n",
    "\n"
   ]
  },
  {
   "cell_type": "code",
   "execution_count": 5,
   "metadata": {},
   "outputs": [
    {
     "name": "stderr",
     "output_type": "stream",
     "text": [
      "100%|██████████| 100/100 [00:00<00:00, 410.79it/s]\n",
      "100%|██████████| 100/100 [00:00<00:00, 446.63it/s]"
     ]
    },
    {
     "name": "stdout",
     "output_type": "stream",
     "text": [
      "0.04135958567858614\n"
     ]
    },
    {
     "name": "stderr",
     "output_type": "stream",
     "text": [
      "\n"
     ]
    },
    {
     "data": {
      "text/plain": [
       "<matplotlib.legend.Legend at 0x7fab40035a30>"
      ]
     },
     "execution_count": 5,
     "metadata": {},
     "output_type": "execute_result"
    },
    {
     "data": {
      "image/png": "[encoded data removed]",
      "text/plain": [
       "<Figure size 640x480 with 1 Axes>"
      ]
     },
     "metadata": {},
     "output_type": "display_data"
    }
   ],
   "source": [
    "\n",
    "predicted_trajectory, predicted_control = [], []\n",
    "expert_trajectory, expert_control = [], []\n",
    "with torch.no_grad():\n",
    "    predicted_trajectory, predicted_control = simulate(inferred_policy, test_x0, acceleration_of_other_car, n_iters = 100)\n",
    "    expert_trajectory, expert_control = simulate(expert_policy, test_x0, acceleration_of_other_car, n_iters = 100)\n",
    "    test_losses.append(mse(initial_control_prediction, test_expert_control))\n",
    "    print(test_losses[-1])\n",
    "\n",
    "\n",
    "\n",
    "import matplotlib\n",
    "time_list = [x for x in range(100)]\n",
    "import matplotlib.pyplot as plt\n",
    "plt.plot(time_list, [x[0].cpu() for x in predicted_trajectory], label='inferred trajectory')\n",
    "plt.plot(time_list, [x[0].cpu() for x in expert_trajectory], label='expert trajectory')\n",
    "plt.xlabel(\"time\")\n",
    "plt.ylabel(\"position\")\n",
    "plt.legend()"
   ]
  },
  {
   "cell_type": "code",
   "execution_count": 17,
   "metadata": {},
   "outputs": [
    {
     "data": {
      "text/plain": [
       "<matplotlib.legend.Legend at 0x7fd93098fdf0>"
      ]
     },
     "execution_count": 17,
     "metadata": {},
     "output_type": "execute_result"
    },
    {
     "data": {
      "image/png": "[encoded data removed]",
      "text/plain": [
       "<Figure size 640x480 with 1 Axes>"
      ]
     },
     "metadata": {},
     "output_type": "display_data"
    }
   ],
   "source": [
    "plt.plot(time_list, [x[1].cpu() for x in predicted_trajectory], label='inferred trajectory')\n",
    "plt.plot(time_list, [x[1].cpu() for x in expert_trajectory], label='expert trajectory')\n",
    "plt.xlabel(\"time\")\n",
    "plt.ylabel(\"velocity\")\n",
    "plt.legend()"
   ]
  }
 ],
 "metadata": {
  "kernelspec": {
   "display_name": "Python 3",
   "language": "python",
   "name": "python3"
  },
  "language_info": {
   "codemirror_mode": {
    "name": "ipython",
    "version": 3
   },
   "file_extension": ".py",
   "mimetype": "text/x-python",
   "name": "python",
   "nbconvert_exporter": "python",
   "pygments_lexer": "ipython3",
   "version": "3.9.17"
  }
 },
 "nbformat": 4,
 "nbformat_minor": 2
}
