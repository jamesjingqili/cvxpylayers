{
 "cells": [
  {
   "cell_type": "markdown",
   "metadata": {},
   "source": [
    "# Inverse MPC\n",
    "\n",
    "This notebook accompanies the paper [Learning Convex Optimization Models](https://web.stanford.edu/~boyd/papers/learning_copt_models.html)."
   ]
  },
  {
   "cell_type": "code",
   "execution_count": 3,
   "metadata": {},
   "outputs": [],
   "source": [
    "import cvxpy as cp\n",
    "import matplotlib.pyplot as plt\n",
    "import numpy as np\n",
    "import torch\n",
    "from tqdm import tqdm\n",
    "\n",
    "\n",
    "\n",
    "# lessons learned:\n",
    "# 1. the problem should feasible, convex, for any given parameters\n",
    "# 2. Make sure the there is no product of two parameters that to be inferred\n",
    "\n",
    "\n",
    "\n",
    "# ----------------- 1. Define the MPC problem -----------------\n",
    "\n",
    "\n",
    "\n",
    "from cvxpylayers.torch import CvxpyLayer\n",
    "torch.set_default_dtype(torch.double)\n",
    "torch.set_default_device('cuda:3')\n",
    "\n",
    "# define the nominal dynamics\n",
    "n = 4 # state dimension\n",
    "m = 1 # control dimension\n",
    "dt = 0.1 # time integrator\n",
    "A_np = np.array([[1., dt],[0, 1.]]) # dynamics of the ego car\n",
    "A = np.kron(np.eye(2), A_np) # dynamics of the two cars\n",
    "B1 = np.array([0,dt,0,0]).reshape(-1,1) # control of the ego car\n",
    "B2 = np.array([0,0,0,dt]).reshape(-1,1) # control of the other car\n",
    "\n",
    "A_torch = torch.tensor(A)\n",
    "B1_torch = torch.tensor(B1)\n",
    "B2_torch = torch.tensor(B2)\n",
    "\n",
    "\n",
    "# define the ground truth parameters of the cost function\n",
    "# parameters:   weight_on_distance_cost, \n",
    "#               weight_on_velocity_cost, \n",
    "#               weight_on_acceleration_cost, \n",
    "#               desired_distance, \n",
    "#               desired_velocity,\n",
    "ground_truth_parameters = torch.tensor([4.0, 1.0, 0.5, 1.0])\n",
    "ground_truth_parameters_np = ground_truth_parameters.cpu().numpy()\n",
    "control_limit = 1.0 # this is the constraint on the control\n",
    "T = 5 # look-ahead horizon\n",
    "\n",
    "\n",
    "# define the dynamics and cost function\n",
    "def dynamics_torch(xt, ut, acceleration_of_other_car = torch.tensor([0.])):\n",
    "    return A_torch @ xt + B1_torch @ ut + B2_torch @ acceleration_of_other_car\n",
    "\n",
    "def dynamics_np(xt, ut, acceleration_of_other_car = np.array([0.])):\n",
    "    return A @ xt + B1 @ ut + B2 @ acceleration_of_other_car\n",
    "\n",
    "def cost(xt, ut):\n",
    "    return (ground_truth_parameters*(xt.pow(2))).sum() + ut.pow(2).sum()\n",
    "\n",
    "\n",
    "# define MPC problem as below:\n",
    "def construct_mpc_problem():\n",
    "    # belows are the parameters of the MPC problem\n",
    "    x = cp.Parameter(n)\n",
    "    acceleration_of_other_car = cp.Parameter(1)\n",
    "    # belows are the decision variables of the MPC problem\n",
    "    states = [cp.Variable(n) for _ in range(T)]\n",
    "    controls = [cp.Variable(m) for _ in range(T)]\n",
    "    # initial constraints\n",
    "    constraints = [states[0] == x, \n",
    "        cp.norm(controls[0], 'inf') <= control_limit,\n",
    "        states[0][0] <= states[0][2] - ground_truth_parameters_np[2]] \n",
    "    # initial objective\n",
    "    # \n",
    "    objective = cp.square(ground_truth_parameters_np[2]-(states[0][2]-states[0][0])) +\\\n",
    "        cp.multiply(ground_truth_parameters_np[0], cp.square(states[0][1] - ground_truth_parameters_np[3]))+\\\n",
    "        cp.multiply(ground_truth_parameters_np[1], cp.square(controls[0])) \n",
    "    for t in range(1, T):\n",
    "        # objective\n",
    "        #\n",
    "        objective = cp.square(ground_truth_parameters_np[2]-(states[t][2]-states[t][0])) +\\\n",
    "            cp.multiply(ground_truth_parameters_np[0], cp.square(states[t][1] - ground_truth_parameters_np[3]))+\\\n",
    "            cp.multiply(ground_truth_parameters_np[1], cp.square(controls[t])) \n",
    "        # dynamics constraints\n",
    "        constraints += [states[t] == A @ states[t-1] +\\\n",
    "            B1 @ controls[t-1] +\\\n",
    "            B2 @ acceleration_of_other_car] \n",
    "        # control constraints\n",
    "        constraints += [cp.norm(controls[t], 'inf') <= control_limit]\n",
    "        constraints += [states[t][0] <= states[t][2]- ground_truth_parameters_np[2]] \n",
    "    problem = cp.Problem(cp.Minimize(objective), constraints)\n",
    "    return CvxpyLayer(problem, variables=[controls[0]], parameters=[x, acceleration_of_other_car])\n",
    "\n",
    "\n",
    "# simulate the closed-loop system\n",
    "def simulate(policy, x0, acceleration_of_other_car, n_iters=1):\n",
    "    states, controls, costs = [x0], [], []\n",
    "    for t in tqdm(range(n_iters)):\n",
    "        xt = states[-1] # current state\n",
    "        # import pdb; pdb.set_trace()\n",
    "        ut = policy(xt, acceleration_of_other_car)[0] # current control\n",
    "        # record control, cost, and next state:\n",
    "        controls.append(ut)\n",
    "        states.append(dynamics_torch(xt, ut, acceleration_of_other_car))\n",
    "    return states[:-1], controls\n",
    "\n",
    "\n",
    "# define the mean square error\n",
    "def mse(prediction, actual):\n",
    "    prediction = torch.stack(prediction, dim=0)\n",
    "    actual = torch.stack(actual, dim=0)\n",
    "    return (prediction - actual).pow(2).mean(axis=1).mean(axis=0).item()\n",
    "\n",
    "\n",
    "\n",
    "\n"
   ]
  },
  {
   "cell_type": "code",
   "execution_count": 8,
   "metadata": {},
   "outputs": [
    {
     "name": "stderr",
     "output_type": "stream",
     "text": [
      "  0%|          | 0/100 [00:00<?, ?it/s]"
     ]
    },
    {
     "name": "stderr",
     "output_type": "stream",
     "text": [
      "100%|██████████| 100/100 [00:00<00:00, 450.47it/s]\n",
      "100%|██████████| 100/100 [00:00<00:00, 451.37it/s]\n",
      "100%|██████████| 100/100 [00:00<00:00, 452.56it/s]\n"
     ]
    },
    {
     "name": "stdout",
     "output_type": "stream",
     "text": [
      "0.04135958567858614\n",
      "Epoch:  0\n"
     ]
    },
    {
     "name": "stderr",
     "output_type": "stream",
     "text": [
      "100it [00:00, 164.22it/s]\n",
      "100%|██████████| 100/100 [00:00<00:00, 449.80it/s]\n"
     ]
    },
    {
     "name": "stdout",
     "output_type": "stream",
     "text": [
      "0.04053502314320543\n",
      "Epoch:  1\n"
     ]
    },
    {
     "name": "stderr",
     "output_type": "stream",
     "text": [
      "100it [00:00, 162.97it/s]\n",
      "100%|██████████| 100/100 [00:00<00:00, 444.16it/s]\n"
     ]
    },
    {
     "name": "stdout",
     "output_type": "stream",
     "text": [
      "0.04090062372316395\n",
      "Epoch:  2\n"
     ]
    },
    {
     "name": "stderr",
     "output_type": "stream",
     "text": [
      "100it [00:00, 164.33it/s]\n",
      "100%|██████████| 100/100 [00:00<00:00, 450.48it/s]\n"
     ]
    },
    {
     "name": "stdout",
     "output_type": "stream",
     "text": [
      "0.041202786866635005\n",
      "Epoch:  3\n"
     ]
    },
    {
     "name": "stderr",
     "output_type": "stream",
     "text": [
      "100it [00:00, 164.20it/s]\n",
      "100%|██████████| 100/100 [00:00<00:00, 448.12it/s]\n"
     ]
    },
    {
     "name": "stdout",
     "output_type": "stream",
     "text": [
      "0.04087416743325937\n",
      "Epoch:  4\n"
     ]
    },
    {
     "name": "stderr",
     "output_type": "stream",
     "text": [
      "100it [00:00, 163.97it/s]\n",
      "100%|██████████| 100/100 [00:00<00:00, 451.54it/s]\n"
     ]
    },
    {
     "name": "stdout",
     "output_type": "stream",
     "text": [
      "0.04033748536230317\n",
      "Epoch:  5\n"
     ]
    },
    {
     "name": "stderr",
     "output_type": "stream",
     "text": [
      "100it [00:00, 164.09it/s]\n",
      "100%|██████████| 100/100 [00:00<00:00, 450.01it/s]\n"
     ]
    },
    {
     "name": "stdout",
     "output_type": "stream",
     "text": [
      "0.0399844320967649\n",
      "Epoch:  6\n"
     ]
    },
    {
     "name": "stderr",
     "output_type": "stream",
     "text": [
      "100it [00:00, 164.23it/s]\n",
      "100%|██████████| 100/100 [00:00<00:00, 450.23it/s]\n"
     ]
    },
    {
     "name": "stdout",
     "output_type": "stream",
     "text": [
      "0.03903578177609265\n",
      "Epoch:  7\n"
     ]
    },
    {
     "name": "stderr",
     "output_type": "stream",
     "text": [
      "100it [00:00, 164.23it/s]\n",
      "100%|██████████| 100/100 [00:00<00:00, 447.52it/s]\n"
     ]
    },
    {
     "name": "stdout",
     "output_type": "stream",
     "text": [
      "0.042333667969227634\n",
      "Epoch:  8\n"
     ]
    },
    {
     "name": "stderr",
     "output_type": "stream",
     "text": [
      "100it [00:00, 164.32it/s]\n",
      "100%|██████████| 100/100 [00:00<00:00, 452.36it/s]\n"
     ]
    },
    {
     "name": "stdout",
     "output_type": "stream",
     "text": [
      "0.038394972105005636\n",
      "Epoch:  9\n"
     ]
    },
    {
     "name": "stderr",
     "output_type": "stream",
     "text": [
      "100it [00:00, 164.21it/s]\n",
      "100%|██████████| 100/100 [00:00<00:00, 451.51it/s]\n"
     ]
    },
    {
     "name": "stdout",
     "output_type": "stream",
     "text": [
      "0.03820966197554869\n",
      "Epoch:  10\n"
     ]
    },
    {
     "name": "stderr",
     "output_type": "stream",
     "text": [
      "100it [00:00, 164.59it/s]\n",
      "100%|██████████| 100/100 [00:00<00:00, 445.85it/s]\n"
     ]
    },
    {
     "name": "stdout",
     "output_type": "stream",
     "text": [
      "0.04066527432341938\n",
      "Epoch:  11\n"
     ]
    },
    {
     "name": "stderr",
     "output_type": "stream",
     "text": [
      "100it [00:00, 164.01it/s]\n",
      "100%|██████████| 100/100 [00:00<00:00, 450.16it/s]\n"
     ]
    },
    {
     "name": "stdout",
     "output_type": "stream",
     "text": [
      "0.04011035107438043\n",
      "Epoch:  12\n"
     ]
    },
    {
     "name": "stderr",
     "output_type": "stream",
     "text": [
      "100it [00:00, 163.15it/s]\n",
      "100%|██████████| 100/100 [00:00<00:00, 449.57it/s]\n"
     ]
    },
    {
     "name": "stdout",
     "output_type": "stream",
     "text": [
      "0.03963419847626601\n",
      "Epoch:  13\n"
     ]
    },
    {
     "name": "stderr",
     "output_type": "stream",
     "text": [
      "100it [00:00, 164.06it/s]\n",
      "100%|██████████| 100/100 [00:00<00:00, 450.54it/s]\n"
     ]
    },
    {
     "name": "stdout",
     "output_type": "stream",
     "text": [
      "0.03921334461962891\n",
      "Epoch:  14\n"
     ]
    },
    {
     "name": "stderr",
     "output_type": "stream",
     "text": [
      "100it [00:00, 164.45it/s]\n",
      "100%|██████████| 100/100 [00:00<00:00, 449.86it/s]\n"
     ]
    },
    {
     "name": "stdout",
     "output_type": "stream",
     "text": [
      "0.038727377825605765\n",
      "Epoch:  15\n"
     ]
    },
    {
     "name": "stderr",
     "output_type": "stream",
     "text": [
      "100it [00:00, 164.28it/s]\n",
      "100%|██████████| 100/100 [00:00<00:00, 449.88it/s]\n"
     ]
    },
    {
     "name": "stdout",
     "output_type": "stream",
     "text": [
      "0.038008821405416796\n",
      "Epoch:  16\n"
     ]
    },
    {
     "name": "stderr",
     "output_type": "stream",
     "text": [
      "100it [00:00, 163.76it/s]\n",
      "100%|██████████| 100/100 [00:00<00:00, 450.96it/s]\n"
     ]
    },
    {
     "name": "stdout",
     "output_type": "stream",
     "text": [
      "0.03774379917545522\n",
      "Epoch:  17\n"
     ]
    },
    {
     "name": "stderr",
     "output_type": "stream",
     "text": [
      "100it [00:00, 163.27it/s]\n",
      "100%|██████████| 100/100 [00:00<00:00, 450.65it/s]\n"
     ]
    },
    {
     "name": "stdout",
     "output_type": "stream",
     "text": [
      "0.038489972172413116\n",
      "Epoch:  18\n"
     ]
    },
    {
     "name": "stderr",
     "output_type": "stream",
     "text": [
      "100it [00:00, 163.67it/s]\n",
      "100%|██████████| 100/100 [00:00<00:00, 449.81it/s]\n"
     ]
    },
    {
     "name": "stdout",
     "output_type": "stream",
     "text": [
      "0.037281158957678424\n",
      "Epoch:  19\n"
     ]
    },
    {
     "name": "stderr",
     "output_type": "stream",
     "text": [
      "100it [00:00, 163.14it/s]\n",
      "100%|██████████| 100/100 [00:00<00:00, 445.66it/s]\n"
     ]
    },
    {
     "name": "stdout",
     "output_type": "stream",
     "text": [
      "0.03765580953788782\n",
      "Epoch:  20\n"
     ]
    },
    {
     "name": "stderr",
     "output_type": "stream",
     "text": [
      "100it [00:00, 163.03it/s]\n",
      "100%|██████████| 100/100 [00:00<00:00, 449.70it/s]\n"
     ]
    },
    {
     "name": "stdout",
     "output_type": "stream",
     "text": [
      "0.037614105671898504\n",
      "Epoch:  21\n"
     ]
    },
    {
     "name": "stderr",
     "output_type": "stream",
     "text": [
      "100it [00:00, 163.50it/s]\n",
      "100%|██████████| 100/100 [00:00<00:00, 450.69it/s]\n"
     ]
    },
    {
     "name": "stdout",
     "output_type": "stream",
     "text": [
      "0.036913532680369954\n",
      "Epoch:  22\n"
     ]
    },
    {
     "name": "stderr",
     "output_type": "stream",
     "text": [
      "100it [00:00, 163.60it/s]\n",
      "100%|██████████| 100/100 [00:00<00:00, 450.47it/s]\n"
     ]
    },
    {
     "name": "stdout",
     "output_type": "stream",
     "text": [
      "0.036415335078093886\n",
      "Epoch:  23\n"
     ]
    },
    {
     "name": "stderr",
     "output_type": "stream",
     "text": [
      "100it [00:00, 163.65it/s]\n",
      "100%|██████████| 100/100 [00:00<00:00, 451.02it/s]\n"
     ]
    },
    {
     "name": "stdout",
     "output_type": "stream",
     "text": [
      "0.03624571227544584\n",
      "Epoch:  24\n"
     ]
    },
    {
     "name": "stderr",
     "output_type": "stream",
     "text": [
      "100it [00:00, 163.31it/s]\n",
      "100%|██████████| 100/100 [00:00<00:00, 448.98it/s]\n"
     ]
    },
    {
     "name": "stdout",
     "output_type": "stream",
     "text": [
      "0.03912720554549573\n",
      "Epoch:  25\n"
     ]
    },
    {
     "name": "stderr",
     "output_type": "stream",
     "text": [
      "100it [00:00, 163.83it/s]\n",
      "100%|██████████| 100/100 [00:00<00:00, 450.52it/s]\n"
     ]
    },
    {
     "name": "stdout",
     "output_type": "stream",
     "text": [
      "0.03492495400683866\n",
      "Epoch:  26\n"
     ]
    },
    {
     "name": "stderr",
     "output_type": "stream",
     "text": [
      "100it [00:00, 164.47it/s]\n",
      "100%|██████████| 100/100 [00:00<00:00, 450.26it/s]\n"
     ]
    },
    {
     "name": "stdout",
     "output_type": "stream",
     "text": [
      "0.03463135989154876\n",
      "Epoch:  27\n"
     ]
    },
    {
     "name": "stderr",
     "output_type": "stream",
     "text": [
      "100it [00:00, 163.95it/s]\n",
      "100%|██████████| 100/100 [00:00<00:00, 448.79it/s]\n"
     ]
    },
    {
     "name": "stdout",
     "output_type": "stream",
     "text": [
      "0.034420056585931\n",
      "Epoch:  28\n"
     ]
    },
    {
     "name": "stderr",
     "output_type": "stream",
     "text": [
      "100it [00:00, 164.94it/s]\n",
      "100%|██████████| 100/100 [00:00<00:00, 449.77it/s]\n"
     ]
    },
    {
     "name": "stdout",
     "output_type": "stream",
     "text": [
      "0.03717959265136792\n",
      "Epoch:  29\n"
     ]
    },
    {
     "name": "stderr",
     "output_type": "stream",
     "text": [
      "100it [00:00, 164.02it/s]\n",
      "100%|██████████| 100/100 [00:00<00:00, 449.85it/s]\n"
     ]
    },
    {
     "name": "stdout",
     "output_type": "stream",
     "text": [
      "0.03679182511584621\n",
      "Epoch:  30\n"
     ]
    },
    {
     "name": "stderr",
     "output_type": "stream",
     "text": [
      "100it [00:00, 163.22it/s]\n",
      "100%|██████████| 100/100 [00:00<00:00, 451.29it/s]\n"
     ]
    },
    {
     "name": "stdout",
     "output_type": "stream",
     "text": [
      "0.0364283862755417\n",
      "Epoch:  31\n"
     ]
    },
    {
     "name": "stderr",
     "output_type": "stream",
     "text": [
      "100it [00:00, 163.52it/s]\n",
      "100%|██████████| 100/100 [00:00<00:00, 449.61it/s]\n"
     ]
    },
    {
     "name": "stdout",
     "output_type": "stream",
     "text": [
      "0.035712374133243054\n",
      "Epoch:  32\n"
     ]
    },
    {
     "name": "stderr",
     "output_type": "stream",
     "text": [
      "100it [00:00, 162.98it/s]\n",
      "100%|██████████| 100/100 [00:00<00:00, 450.12it/s]\n"
     ]
    },
    {
     "name": "stdout",
     "output_type": "stream",
     "text": [
      "0.035061730783091306\n",
      "Epoch:  33\n"
     ]
    },
    {
     "name": "stderr",
     "output_type": "stream",
     "text": [
      "100it [00:00, 163.90it/s]\n",
      "100%|██████████| 100/100 [00:00<00:00, 451.12it/s]\n"
     ]
    },
    {
     "name": "stdout",
     "output_type": "stream",
     "text": [
      "0.03504374086893353\n",
      "Epoch:  34\n"
     ]
    },
    {
     "name": "stderr",
     "output_type": "stream",
     "text": [
      "100it [00:00, 163.84it/s]\n",
      "100%|██████████| 100/100 [00:00<00:00, 449.41it/s]\n"
     ]
    },
    {
     "name": "stdout",
     "output_type": "stream",
     "text": [
      "0.03564310547133719\n",
      "Epoch:  35\n"
     ]
    },
    {
     "name": "stderr",
     "output_type": "stream",
     "text": [
      "100it [00:00, 163.24it/s]\n",
      "100%|██████████| 100/100 [00:00<00:00, 448.27it/s]\n"
     ]
    },
    {
     "name": "stdout",
     "output_type": "stream",
     "text": [
      "0.035552908979001555\n",
      "Epoch:  36\n"
     ]
    },
    {
     "name": "stderr",
     "output_type": "stream",
     "text": [
      "100it [00:00, 163.94it/s]\n",
      "100%|██████████| 100/100 [00:00<00:00, 449.58it/s]\n"
     ]
    },
    {
     "name": "stdout",
     "output_type": "stream",
     "text": [
      "0.03399740545431328\n",
      "Epoch:  37\n"
     ]
    },
    {
     "name": "stderr",
     "output_type": "stream",
     "text": [
      "100it [00:00, 164.12it/s]\n",
      "100%|██████████| 100/100 [00:00<00:00, 448.60it/s]\n"
     ]
    },
    {
     "name": "stdout",
     "output_type": "stream",
     "text": [
      "0.03458313023493169\n",
      "Epoch:  38\n"
     ]
    },
    {
     "name": "stderr",
     "output_type": "stream",
     "text": [
      "100it [00:00, 163.88it/s]\n",
      "100%|██████████| 100/100 [00:00<00:00, 449.71it/s]\n"
     ]
    },
    {
     "name": "stdout",
     "output_type": "stream",
     "text": [
      "0.03385071764805891\n",
      "Epoch:  39\n"
     ]
    },
    {
     "name": "stderr",
     "output_type": "stream",
     "text": [
      "100it [00:00, 162.67it/s]\n",
      "100%|██████████| 100/100 [00:00<00:00, 448.16it/s]"
     ]
    },
    {
     "name": "stdout",
     "output_type": "stream",
     "text": [
      "0.033756419146725794\n",
      "Training finished!\n",
      "The inferred parameters are:  tensor([2.1948, 1.9633, 0.5094, 1.0000], device='cuda:3')\n",
      "The ground truth parameters are:  tensor([4.0000, 1.0000, 0.5000, 1.0000], device='cuda:3')\n"
     ]
    },
    {
     "name": "stderr",
     "output_type": "stream",
     "text": [
      "\n"
     ]
    }
   ],
   "source": [
    "\n",
    "\n",
    "# ----------------- 2. Differentiable MPC -----------------\n",
    "\n",
    "\n",
    "\n",
    "# define the differentiable MPC problem as below\n",
    "# The problem bellow is the same as the MPC problem except that the parameters are inferred\n",
    "def construct_differentiable_mpc_problem():\n",
    "    # belows are the parameters of the MPC problem\n",
    "    x = cp.Parameter(n)\n",
    "    inferred_parameters = cp.Parameter(4, nonneg=True) # this is the parameters of the problem\n",
    "    acceleration_of_other_car = cp.Parameter(1)\n",
    "    # belows are the decision variables of the MPC problem\n",
    "    states = [cp.Variable(n) for _ in range(T)]\n",
    "    controls = [cp.Variable(m) for _ in range(T)]\n",
    "    # initial constraints\n",
    "    constraints = [states[0] == x, \n",
    "        cp.norm(controls[0], 'inf') <= control_limit,\n",
    "        states[0][0] <= states[0][2] - inferred_parameters[2]] \n",
    "    # initial objective\n",
    "    # \n",
    "    objective = cp.square(inferred_parameters[2]-(states[0][2]-states[0][0])) +\\\n",
    "        cp.multiply(inferred_parameters[0], cp.square(states[0][1] - ground_truth_parameters_np[3]))+\\\n",
    "        cp.multiply(inferred_parameters[1], cp.square(controls[0])) \n",
    "    for t in range(1, T):\n",
    "        # objective\n",
    "        #\n",
    "        objective = cp.square(inferred_parameters[2]-(states[t][2]-states[t][0])) +\\\n",
    "            cp.multiply(inferred_parameters[0], cp.square(states[t][1] - ground_truth_parameters_np[3]))+\\\n",
    "            cp.multiply(inferred_parameters[1], cp.square(controls[t])) \n",
    "        # dynamics constraints\n",
    "        constraints += [states[t] == A @ states[t-1] +\\\n",
    "            B1 @ controls[t-1] +\\\n",
    "            B2 @ acceleration_of_other_car] \n",
    "        # control constraints\n",
    "        constraints += [cp.norm(controls[t], 'inf') <= control_limit]\n",
    "        constraints += [states[t][0] <= states[t][2]- inferred_parameters[2]] \n",
    "    problem = cp.Problem(cp.Minimize(objective), constraints)\n",
    "    return CvxpyLayer(problem, variables=[controls[0]], parameters=[x, acceleration_of_other_car, inferred_parameters])\n",
    "\n",
    "\n",
    "\n",
    "\n",
    "# ----------------- 3. test MPC and differentiable MPC -----------------\n",
    "\n",
    "\n",
    "\n",
    "# initial state of two cars\n",
    "x0 = torch.tensor([1.0, 0.2, 5.0, 1.0])\n",
    "acceleration_of_other_car = torch.tensor([0.])\n",
    "\n",
    "\n",
    "# define an MPC problem:\n",
    "# In this MPC problem, we want to solve for the control given the initial state x0 and \n",
    "# the acceleration of the other car\n",
    "mpc_problem = construct_mpc_problem()\n",
    "\n",
    "\n",
    "# for example, we can solve the MPC problem for the initial state x0 and the acceleration of the other car\n",
    "# Notice that the output of the function construct_mpc_problem is the first control, i.e., controls[0]\n",
    "mpc_problem(x0, acceleration_of_other_car)\n",
    "\n",
    "\n",
    "\n",
    "\n",
    "# generate expert state and control trajectories!\n",
    "expert_states, expert_controls= simulate(mpc_problem, \n",
    "                                        x0, \n",
    "                                        acceleration_of_other_car, \n",
    "                                        n_iters = 100)\n",
    "\n",
    "\n",
    "\n",
    "\n",
    "\n",
    "# define an MPC problem containing some hidden parameters that we want to infer\n",
    "inferred_mpc_problem = construct_differentiable_mpc_problem()\n",
    "\n",
    "\n",
    "# define the inferred policy: a function from a state to a control, under the inferred parameters\n",
    "inferred_policy = lambda x, acceleration_of_other_car: inferred_mpc_problem(x, \n",
    "                                                acceleration_of_other_car, \n",
    "                                                inferred_parameters_torch)\n",
    "\n",
    "\n",
    "# define the expert policy: a function from a state to a control, under the ground truth parameters\n",
    "expert_policy = lambda x, acceleration_of_other_car: mpc_problem(x, \n",
    "                                    acceleration_of_other_car)\n",
    "\n",
    "\n",
    "\n",
    "\n",
    "\n",
    "# ----------------- 4. training -----------------\n",
    "\n",
    "\n",
    "# define the inferred parameters:\n",
    "inferred_parameters_torch = torch.tensor([2.0, 2.0, 0.5, 1.0], requires_grad=True)\n",
    "\n",
    "# the training loop:\n",
    "training_epochs = 40 \n",
    "test_losses = [] \n",
    "training_losses = [] \n",
    "test_x0 = x0\n",
    "# initialize the training \n",
    "with torch.no_grad():\n",
    "    _, initial_control_prediction = simulate(inferred_policy, test_x0, acceleration_of_other_car, n_iters = 100)\n",
    "    _, test_expert_control = simulate(expert_policy, test_x0, acceleration_of_other_car, n_iters = 100)\n",
    "    test_losses.append(mse(initial_control_prediction, test_expert_control))\n",
    "    print(test_losses[-1])\n",
    "\n",
    "\n",
    "# use Adam optimizer\n",
    "opt = torch.optim.Adam([inferred_parameters_torch], lr=1e-4) \n",
    "\n"
   ]
  },
  {
   "cell_type": "code",
   "execution_count": 15,
   "metadata": {},
   "outputs": [
    {
     "name": "stdout",
     "output_type": "stream",
     "text": [
      "Epoch:  0\n"
     ]
    },
    {
     "name": "stderr",
     "output_type": "stream",
     "text": [
      "100it [00:00, 158.69it/s]\n",
      "100%|██████████| 100/100 [00:00<00:00, 447.47it/s]\n"
     ]
    },
    {
     "name": "stdout",
     "output_type": "stream",
     "text": [
      "0.03320780015961368\n",
      "Epoch:  1\n"
     ]
    },
    {
     "name": "stderr",
     "output_type": "stream",
     "text": [
      "100it [00:00, 162.39it/s]\n",
      "100%|██████████| 100/100 [00:00<00:00, 447.01it/s]\n"
     ]
    },
    {
     "name": "stdout",
     "output_type": "stream",
     "text": [
      "0.033019530744306\n",
      "Epoch:  2\n"
     ]
    },
    {
     "name": "stderr",
     "output_type": "stream",
     "text": [
      "100it [00:00, 163.32it/s]\n",
      "100%|██████████| 100/100 [00:00<00:00, 447.49it/s]\n"
     ]
    },
    {
     "name": "stdout",
     "output_type": "stream",
     "text": [
      "0.03635483054776116\n",
      "Epoch:  3\n"
     ]
    },
    {
     "name": "stderr",
     "output_type": "stream",
     "text": [
      "100it [00:00, 163.73it/s]\n",
      "100%|██████████| 100/100 [00:00<00:00, 447.97it/s]\n"
     ]
    },
    {
     "name": "stdout",
     "output_type": "stream",
     "text": [
      "0.03594767879574133\n",
      "Epoch:  4\n"
     ]
    },
    {
     "name": "stderr",
     "output_type": "stream",
     "text": [
      "100it [00:00, 162.68it/s]\n",
      "100%|██████████| 100/100 [00:00<00:00, 448.39it/s]\n"
     ]
    },
    {
     "name": "stdout",
     "output_type": "stream",
     "text": [
      "0.035231271307221944\n",
      "Epoch:  5\n"
     ]
    },
    {
     "name": "stderr",
     "output_type": "stream",
     "text": [
      "100it [00:00, 162.84it/s]\n",
      "100%|██████████| 100/100 [00:00<00:00, 448.69it/s]\n"
     ]
    },
    {
     "name": "stdout",
     "output_type": "stream",
     "text": [
      "0.03189497262854519\n",
      "Epoch:  6\n"
     ]
    },
    {
     "name": "stderr",
     "output_type": "stream",
     "text": [
      "100it [00:00, 163.39it/s]\n",
      "100%|██████████| 100/100 [00:00<00:00, 435.07it/s]\n"
     ]
    },
    {
     "name": "stdout",
     "output_type": "stream",
     "text": [
      "0.03439799474318931\n",
      "Epoch:  7\n"
     ]
    },
    {
     "name": "stderr",
     "output_type": "stream",
     "text": [
      "100it [00:00, 163.89it/s]\n",
      "100%|██████████| 100/100 [00:00<00:00, 447.53it/s]\n"
     ]
    },
    {
     "name": "stdout",
     "output_type": "stream",
     "text": [
      "0.03407955596139352\n",
      "Epoch:  8\n"
     ]
    },
    {
     "name": "stderr",
     "output_type": "stream",
     "text": [
      "100it [00:00, 163.25it/s]\n",
      "100%|██████████| 100/100 [00:00<00:00, 446.53it/s]\n"
     ]
    },
    {
     "name": "stdout",
     "output_type": "stream",
     "text": [
      "0.03387657732003094\n",
      "Epoch:  9\n"
     ]
    },
    {
     "name": "stderr",
     "output_type": "stream",
     "text": [
      "100it [00:00, 162.55it/s]\n",
      "100%|██████████| 100/100 [00:00<00:00, 447.44it/s]\n"
     ]
    },
    {
     "name": "stdout",
     "output_type": "stream",
     "text": [
      "0.033549228067082694\n",
      "Epoch:  10\n"
     ]
    },
    {
     "name": "stderr",
     "output_type": "stream",
     "text": [
      "100it [00:00, 161.63it/s]\n",
      "100%|██████████| 100/100 [00:00<00:00, 440.03it/s]\n"
     ]
    },
    {
     "name": "stdout",
     "output_type": "stream",
     "text": [
      "0.032903379635529514\n",
      "Epoch:  11\n"
     ]
    },
    {
     "name": "stderr",
     "output_type": "stream",
     "text": [
      "100it [00:00, 163.00it/s]\n",
      "100%|██████████| 100/100 [00:00<00:00, 447.95it/s]\n"
     ]
    },
    {
     "name": "stdout",
     "output_type": "stream",
     "text": [
      "0.032268416712007336\n",
      "Epoch:  12\n"
     ]
    },
    {
     "name": "stderr",
     "output_type": "stream",
     "text": [
      "100it [00:00, 163.17it/s]\n",
      "100%|██████████| 100/100 [00:00<00:00, 447.78it/s]\n"
     ]
    },
    {
     "name": "stdout",
     "output_type": "stream",
     "text": [
      "0.03227812148488551\n",
      "Epoch:  13\n"
     ]
    },
    {
     "name": "stderr",
     "output_type": "stream",
     "text": [
      "100it [00:00, 162.47it/s]\n",
      "100%|██████████| 100/100 [00:00<00:00, 447.20it/s]\n"
     ]
    },
    {
     "name": "stdout",
     "output_type": "stream",
     "text": [
      "0.033159285874599355\n",
      "Epoch:  14\n"
     ]
    },
    {
     "name": "stderr",
     "output_type": "stream",
     "text": [
      "100it [00:00, 163.44it/s]\n",
      "100%|██████████| 100/100 [00:00<00:00, 449.46it/s]\n"
     ]
    },
    {
     "name": "stdout",
     "output_type": "stream",
     "text": [
      "0.03269744276185998\n",
      "Epoch:  15\n"
     ]
    },
    {
     "name": "stderr",
     "output_type": "stream",
     "text": [
      "100it [00:00, 162.97it/s]\n",
      "100%|██████████| 100/100 [00:00<00:00, 449.00it/s]\n"
     ]
    },
    {
     "name": "stdout",
     "output_type": "stream",
     "text": [
      "0.032358772231801954\n",
      "Epoch:  16\n"
     ]
    },
    {
     "name": "stderr",
     "output_type": "stream",
     "text": [
      "100it [00:00, 163.33it/s]\n",
      "100%|██████████| 100/100 [00:00<00:00, 447.50it/s]\n"
     ]
    },
    {
     "name": "stdout",
     "output_type": "stream",
     "text": [
      "0.03186127110266586\n",
      "Epoch:  17\n"
     ]
    },
    {
     "name": "stderr",
     "output_type": "stream",
     "text": [
      "100it [00:00, 162.98it/s]\n",
      "100%|██████████| 100/100 [00:00<00:00, 447.59it/s]\n"
     ]
    },
    {
     "name": "stdout",
     "output_type": "stream",
     "text": [
      "0.03183076986062337\n",
      "Epoch:  18\n"
     ]
    },
    {
     "name": "stderr",
     "output_type": "stream",
     "text": [
      "100it [00:00, 162.41it/s]\n",
      "100%|██████████| 100/100 [00:00<00:00, 449.15it/s]\n"
     ]
    },
    {
     "name": "stdout",
     "output_type": "stream",
     "text": [
      "0.031256315022502944\n",
      "Epoch:  19\n"
     ]
    },
    {
     "name": "stderr",
     "output_type": "stream",
     "text": [
      "100it [00:00, 162.50it/s]\n",
      "100%|██████████| 100/100 [00:00<00:00, 445.79it/s]\n"
     ]
    },
    {
     "name": "stdout",
     "output_type": "stream",
     "text": [
      "0.030785984405889234\n",
      "Epoch:  20\n"
     ]
    },
    {
     "name": "stderr",
     "output_type": "stream",
     "text": [
      "100it [00:00, 163.07it/s]\n",
      "100%|██████████| 100/100 [00:00<00:00, 447.29it/s]\n"
     ]
    },
    {
     "name": "stdout",
     "output_type": "stream",
     "text": [
      "0.030935161624122687\n",
      "Epoch:  21\n"
     ]
    },
    {
     "name": "stderr",
     "output_type": "stream",
     "text": [
      "100it [00:00, 162.73it/s]\n",
      "100%|██████████| 100/100 [00:00<00:00, 434.84it/s]\n"
     ]
    },
    {
     "name": "stdout",
     "output_type": "stream",
     "text": [
      "0.033746467965357504\n",
      "Epoch:  22\n"
     ]
    },
    {
     "name": "stderr",
     "output_type": "stream",
     "text": [
      "100it [00:00, 162.31it/s]\n",
      "100%|██████████| 100/100 [00:00<00:00, 443.38it/s]\n"
     ]
    },
    {
     "name": "stdout",
     "output_type": "stream",
     "text": [
      "0.03339850252264679\n",
      "Epoch:  23\n"
     ]
    },
    {
     "name": "stderr",
     "output_type": "stream",
     "text": [
      "100it [00:00, 161.26it/s]\n",
      "100%|██████████| 100/100 [00:00<00:00, 448.06it/s]\n"
     ]
    },
    {
     "name": "stdout",
     "output_type": "stream",
     "text": [
      "0.03302950911780066\n",
      "Epoch:  24\n"
     ]
    },
    {
     "name": "stderr",
     "output_type": "stream",
     "text": [
      "100it [00:00, 162.24it/s]\n",
      "100%|██████████| 100/100 [00:00<00:00, 447.41it/s]\n"
     ]
    },
    {
     "name": "stdout",
     "output_type": "stream",
     "text": [
      "0.029921163782935186\n",
      "Epoch:  25\n"
     ]
    },
    {
     "name": "stderr",
     "output_type": "stream",
     "text": [
      "100it [00:00, 163.00it/s]\n",
      "100%|██████████| 100/100 [00:00<00:00, 447.04it/s]\n"
     ]
    },
    {
     "name": "stdout",
     "output_type": "stream",
     "text": [
      "0.03238652646166494\n",
      "Epoch:  26\n"
     ]
    },
    {
     "name": "stderr",
     "output_type": "stream",
     "text": [
      "100it [00:00, 163.07it/s]\n",
      "100%|██████████| 100/100 [00:00<00:00, 446.82it/s]\n"
     ]
    },
    {
     "name": "stdout",
     "output_type": "stream",
     "text": [
      "0.03208001806320552\n",
      "Epoch:  27\n"
     ]
    },
    {
     "name": "stderr",
     "output_type": "stream",
     "text": [
      "100it [00:00, 162.31it/s]\n",
      "100%|██████████| 100/100 [00:00<00:00, 446.09it/s]\n"
     ]
    },
    {
     "name": "stdout",
     "output_type": "stream",
     "text": [
      "0.0317844286944378\n",
      "Epoch:  28\n"
     ]
    },
    {
     "name": "stderr",
     "output_type": "stream",
     "text": [
      "100it [00:00, 162.08it/s]\n",
      "100%|██████████| 100/100 [00:00<00:00, 418.32it/s]\n"
     ]
    },
    {
     "name": "stdout",
     "output_type": "stream",
     "text": [
      "0.031633639313150504\n",
      "Epoch:  29\n"
     ]
    },
    {
     "name": "stderr",
     "output_type": "stream",
     "text": [
      "100it [00:00, 162.96it/s]\n",
      "100%|██████████| 100/100 [00:00<00:00, 428.89it/s]\n"
     ]
    },
    {
     "name": "stdout",
     "output_type": "stream",
     "text": [
      "0.03070358830360569\n",
      "Epoch:  30\n"
     ]
    },
    {
     "name": "stderr",
     "output_type": "stream",
     "text": [
      "100it [00:00, 168.16it/s]\n",
      "100%|██████████| 100/100 [00:00<00:00, 446.45it/s]\n"
     ]
    },
    {
     "name": "stdout",
     "output_type": "stream",
     "text": [
      "0.0307214027090932\n",
      "Epoch:  31\n"
     ]
    },
    {
     "name": "stderr",
     "output_type": "stream",
     "text": [
      "100it [00:00, 161.65it/s]\n",
      "100%|██████████| 100/100 [00:00<00:00, 442.70it/s]\n"
     ]
    },
    {
     "name": "stdout",
     "output_type": "stream",
     "text": [
      "0.031802166503136095\n",
      "Epoch:  32\n"
     ]
    },
    {
     "name": "stderr",
     "output_type": "stream",
     "text": [
      "100it [00:00, 162.09it/s]\n",
      "100%|██████████| 100/100 [00:00<00:00, 448.57it/s]\n"
     ]
    },
    {
     "name": "stdout",
     "output_type": "stream",
     "text": [
      "0.03145353374528467\n",
      "Epoch:  33\n"
     ]
    },
    {
     "name": "stderr",
     "output_type": "stream",
     "text": [
      "100it [00:00, 162.72it/s]\n",
      "100%|██████████| 100/100 [00:00<00:00, 448.05it/s]\n"
     ]
    },
    {
     "name": "stdout",
     "output_type": "stream",
     "text": [
      "0.030053789569504316\n",
      "Epoch:  34\n"
     ]
    },
    {
     "name": "stderr",
     "output_type": "stream",
     "text": [
      "100it [00:00, 162.91it/s]\n",
      "100%|██████████| 100/100 [00:00<00:00, 444.42it/s]\n"
     ]
    },
    {
     "name": "stdout",
     "output_type": "stream",
     "text": [
      "0.030540378865416266\n",
      "Epoch:  35\n"
     ]
    },
    {
     "name": "stderr",
     "output_type": "stream",
     "text": [
      "100it [00:00, 162.84it/s]\n",
      "100%|██████████| 100/100 [00:00<00:00, 448.17it/s]\n"
     ]
    },
    {
     "name": "stdout",
     "output_type": "stream",
     "text": [
      "0.029930090163657434\n",
      "Epoch:  36\n"
     ]
    },
    {
     "name": "stderr",
     "output_type": "stream",
     "text": [
      "100it [00:00, 162.59it/s]\n",
      "100%|██████████| 100/100 [00:00<00:00, 448.18it/s]\n"
     ]
    },
    {
     "name": "stdout",
     "output_type": "stream",
     "text": [
      "0.02999341595378322\n",
      "Epoch:  37\n"
     ]
    },
    {
     "name": "stderr",
     "output_type": "stream",
     "text": [
      "100it [00:00, 162.39it/s]\n",
      "100%|██████████| 100/100 [00:00<00:00, 446.58it/s]\n"
     ]
    },
    {
     "name": "stdout",
     "output_type": "stream",
     "text": [
      "0.029755110272808586\n",
      "Epoch:  38\n"
     ]
    },
    {
     "name": "stderr",
     "output_type": "stream",
     "text": [
      "100it [00:00, 163.08it/s]\n",
      "100%|██████████| 100/100 [00:00<00:00, 443.99it/s]\n"
     ]
    },
    {
     "name": "stdout",
     "output_type": "stream",
     "text": [
      "0.029599240971165446\n",
      "Epoch:  39\n"
     ]
    },
    {
     "name": "stderr",
     "output_type": "stream",
     "text": [
      "100it [00:00, 162.84it/s]\n",
      "100%|██████████| 100/100 [00:00<00:00, 448.74it/s]"
     ]
    },
    {
     "name": "stdout",
     "output_type": "stream",
     "text": [
      "0.029371821109107445\n",
      "Training finished!\n",
      "The inferred parameters are:  tensor([2.4090, 1.9343, 0.5161, 1.0000], device='cuda:3')\n",
      "The ground truth parameters are:  tensor([4.0000, 1.0000, 0.5000, 1.0000], device='cuda:3')\n"
     ]
    },
    {
     "name": "stderr",
     "output_type": "stream",
     "text": [
      "\n"
     ]
    }
   ],
   "source": [
    "# training begins!\n",
    "for epoch in range(training_epochs):\n",
    "    print('Epoch: ', epoch)\n",
    "    for xt, ut in tqdm(zip(expert_states, expert_controls)):\n",
    "        opt.zero_grad()\n",
    "        ut_hat = inferred_mpc_problem(xt, \n",
    "                                    acceleration_of_other_car, \n",
    "                                    inferred_parameters_torch)[0] # the output of the function is (controls[0])\n",
    "        loss = (ut - ut_hat).pow(2).mean()\n",
    "        loss.backward()\n",
    "        training_losses.append(loss.item())\n",
    "        opt.step()\n",
    "    with torch.no_grad():\n",
    "        inferred_parameters_torch.data = inferred_parameters_torch.relu()\n",
    "        _, inferred_control_prediction = simulate(inferred_policy, \n",
    "                                                    test_x0, \n",
    "                                                    acceleration_of_other_car, \n",
    "                                                    n_iters = 100)\n",
    "        test_losses.append(mse(inferred_control_prediction, test_expert_control))\n",
    "    print(test_losses[-1])\n",
    "\n",
    "\n",
    "print('Training finished!')\n",
    "\n",
    "print('The inferred parameters are: ', inferred_parameters_torch.data)\n",
    "print('The ground truth parameters are: ', ground_truth_parameters.data)\n",
    "\n",
    "\n"
   ]
  },
  {
   "cell_type": "code",
   "execution_count": 16,
   "metadata": {},
   "outputs": [
    {
     "name": "stderr",
     "output_type": "stream",
     "text": [
      "100%|██████████| 100/100 [00:00<00:00, 420.11it/s]\n",
      "100%|██████████| 100/100 [00:00<00:00, 449.15it/s]"
     ]
    },
    {
     "name": "stdout",
     "output_type": "stream",
     "text": [
      "0.04135958567858614\n"
     ]
    },
    {
     "name": "stderr",
     "output_type": "stream",
     "text": [
      "\n"
     ]
    },
    {
     "data": {
      "text/plain": [
       "<matplotlib.legend.Legend at 0x7fd9321ea700>"
      ]
     },
     "execution_count": 16,
     "metadata": {},
     "output_type": "execute_result"
    },
    {
     "data": {
      "image/png": "[encoded data removed]",
      "text/plain": [
       "<Figure size 640x480 with 1 Axes>"
      ]
     },
     "metadata": {},
     "output_type": "display_data"
    }
   ],
   "source": [
    "\n",
    "predicted_trajectory, predicted_control = [], []\n",
    "expert_trajectory, expert_control = [], []\n",
    "with torch.no_grad():\n",
    "    predicted_trajectory, predicted_control = simulate(inferred_policy, test_x0, acceleration_of_other_car, n_iters = 100)\n",
    "    expert_trajectory, expert_control = simulate(expert_policy, test_x0, acceleration_of_other_car, n_iters = 100)\n",
    "    test_losses.append(mse(initial_control_prediction, test_expert_control))\n",
    "    print(test_losses[-1])\n",
    "\n",
    "\n",
    "\n",
    "import matplotlib\n",
    "time_list = [x for x in range(100)]\n",
    "import matplotlib.pyplot as plt\n",
    "plt.plot(time_list, [x[0].cpu() for x in predicted_trajectory], label='inferred trajectory')\n",
    "plt.plot(time_list, [x[0].cpu() for x in expert_trajectory], label='expert trajectory')\n",
    "plt.xlabel(\"time\")\n",
    "plt.ylabel(\"position\")\n",
    "plt.legend()"
   ]
  },
  {
   "cell_type": "code",
   "execution_count": 17,
   "metadata": {},
   "outputs": [
    {
     "data": {
      "text/plain": [
       "<matplotlib.legend.Legend at 0x7fd93098fdf0>"
      ]
     },
     "execution_count": 17,
     "metadata": {},
     "output_type": "execute_result"
    },
    {
     "data": {
      "image/png": "[encoded data removed]",
      "text/plain": [
       "<Figure size 640x480 with 1 Axes>"
      ]
     },
     "metadata": {},
     "output_type": "display_data"
    }
   ],
   "source": [
    "plt.plot(time_list, [x[1].cpu() for x in predicted_trajectory], label='inferred trajectory')\n",
    "plt.plot(time_list, [x[1].cpu() for x in expert_trajectory], label='expert trajectory')\n",
    "plt.xlabel(\"time\")\n",
    "plt.ylabel(\"velocity\")\n",
    "plt.legend()"
   ]
  }
 ],
 "metadata": {
  "kernelspec": {
   "display_name": "Python 3",
   "language": "python",
   "name": "python3"
  },
  "language_info": {
   "codemirror_mode": {
    "name": "ipython",
    "version": 3
   },
   "file_extension": ".py",
   "mimetype": "text/x-python",
   "name": "python",
   "nbconvert_exporter": "python",
   "pygments_lexer": "ipython3",
   "version": "3.9.17"
  }
 },
 "nbformat": 4,
 "nbformat_minor": 2
}
